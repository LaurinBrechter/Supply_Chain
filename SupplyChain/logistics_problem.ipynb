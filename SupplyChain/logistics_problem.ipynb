{
 "cells": [
  {
   "cell_type": "markdown",
   "metadata": {},
   "source": [
    "## Production and Transportation Scheduling\n",
    "\n",
    "### Problem Description:\n",
    "\n",
    "- Assign a given set of orders to plants and carriers to minimize cost.\n",
    "    - select the appropriate plant that processes the order\n",
    "    - select the port from which to send the order to its destination\n",
    "- Restrictions\n",
    "    - a given plant can only process certain products\n",
    "    - each plant is only connected to certain ports. (see Supply Chain Mapping below.)\n",
    "    - some customers have a vendor managed inventory (VMI) which means that they can only be serviced by a certain plant."
   ]
  },
  {
   "cell_type": "markdown",
   "metadata": {},
   "source": [
    "## Code Implementation\n",
    "\n",
    "### Reading in Data and Graphs"
   ]
  },
  {
   "cell_type": "code",
   "execution_count": 1,
   "metadata": {},
   "outputs": [],
   "source": [
    "import numpy as np\n",
    "import pandas as pd\n",
    "import networkx as nx\n",
    "import matplotlib.pyplot as plt\n",
    "import plotly.graph_objects as go\n",
    "import seaborn as sns"
   ]
  },
  {
   "cell_type": "code",
   "execution_count": 91,
   "metadata": {},
   "outputs": [],
   "source": [
    "# reading in all the csv files\n",
    "plant_ports = pd.read_csv(\"PlantPorts.csv\", index_col=0)\n",
    "order_list = pd.read_csv(\"OrderList.csv\", index_col=0)\n",
    "products_plants = pd.read_csv(\"ProductsPerPlant.csv\", index_col=0)\n",
    "vmi_plants = pd.read_csv(\"VmiCustomers.csv\", index_col=0)\n",
    "freight_rates = pd.read_csv(\"FreightRates.csv\", index_col=0)\n",
    "wh_cost = pd.read_csv(\"WhCosts.csv\", index_col=0)\n",
    "\n",
    "# changing column names\n",
    "order_list.columns = [i.replace(\" \", \"_\") for i in order_list.columns]\n",
    "products_plants.columns = [i.replace(\" \", \"_\") for i in products_plants.columns]\n",
    "plant_ports.columns = [i.replace(\" \", \"_\") for i in plant_ports.columns]\n",
    "vmi_plants.columns = [i.replace(\" \", \"_\") for i in vmi_plants.columns]\n",
    "\n",
    "wh_cost.set_index(\"WH\", inplace=True)"
   ]
  },
  {
   "cell_type": "code",
   "execution_count": 3,
   "metadata": {},
   "outputs": [],
   "source": [
    "plant_ports_graph = nx.from_pandas_edgelist(plant_ports, source=\"Plant_Code\", target=\"Port\")"
   ]
  },
  {
   "cell_type": "markdown",
   "metadata": {},
   "source": [
    "### Supply Chain Mapping\n",
    "\n",
    "#### Non Interactive with Networkx"
   ]
  },
  {
   "cell_type": "code",
   "execution_count": null,
   "metadata": {},
   "outputs": [],
   "source": [
    "fig, ax = plt.subplots(figsize=(10,10))\n",
    "ax.set_facecolor(\"Grey\")\n",
    "\n",
    "# specify layout for the graph\n",
    "# layout = nx.bipartite_layout(plant_ports_graph, plant_ports[\"Plant Code\"])\n",
    "\n",
    "layout = nx.bipartite_layout(plant_ports_graph, plant_ports[\"Plant_Code\"])\n",
    "\n",
    "for i in layout:\n",
    "    if i.startswith(\"PLANT\"):\n",
    "        layout[i][0] -= 0.1\n",
    "    else:\n",
    "        layout[i][0] += 0.1\n",
    "\n",
    "# we want to map the degree of the node to a color/size\n",
    "degrees = dict(plant_ports_graph.degree)\n",
    "maps = [v*100 for v in degrees.values()]\n",
    "\n",
    "# specify the color map\n",
    "cmap = plt.cm.Blues\n",
    "\n",
    "# keyword args that are the same for both functions\n",
    "kwargs = {\"pos\":layout, \"ax\":ax}\n",
    "\n",
    "nx.draw_networkx_nodes(plant_ports_graph, node_size=maps, node_color=maps, cmap=cmap, **kwargs)\n",
    "nx.draw_networkx_edges(plant_ports_graph, **kwargs)\n",
    "nx.draw_networkx_labels(plant_ports_graph, pos=layout)\n",
    "plt.show()"
   ]
  },
  {
   "cell_type": "markdown",
   "metadata": {},
   "source": [
    "#### Interactive Version with Plotly.\n",
    "\n",
    "- code adopted from https://plotly.com/python/network-graphs/"
   ]
  },
  {
   "cell_type": "code",
   "execution_count": 11,
   "metadata": {},
   "outputs": [],
   "source": [
    "# get starting and ending points of the edges and add them to the graph\n",
    "layout = nx.bipartite_layout(plant_ports_graph, plant_ports[\"Plant_Code\"])\n",
    "\n",
    "edge_x = []\n",
    "edge_y = []\n",
    "\n",
    "for edge in plant_ports_graph.edges():\n",
    "    x0, y0 = layout[edge[0]]\n",
    "    x1, y1 = layout[edge[1]]\n",
    "    \n",
    "    edge_x.append(x0)\n",
    "    edge_x.append(x1)\n",
    "    edge_x.append(None)\n",
    "    edge_y.append(y0)\n",
    "    edge_y.append(y1)\n",
    "    edge_y.append(None)\n",
    "    \n",
    "edge_trace = go.Scatter(\n",
    "    x=edge_x, y=edge_y,\n",
    "    line=dict(width=0.5, color='#25488e'),\n",
    "    hoverinfo='none',\n",
    "    mode='lines')"
   ]
  },
  {
   "cell_type": "code",
   "execution_count": 12,
   "metadata": {},
   "outputs": [],
   "source": [
    "# get coordinated of nodes and add them to the graph\n",
    "\n",
    "node_x = []\n",
    "node_y = []\n",
    "for node in plant_ports_graph.nodes():\n",
    "    x, y = layout[node]\n",
    "    node_x.append(x)\n",
    "    node_y.append(y)\n",
    "    \n",
    "maps = [v for v in degrees.values()]\n",
    "\n",
    "node_trace = go.Scatter(\n",
    "    x=node_x, y=node_y,\n",
    "    mode='markers',\n",
    "    hoverinfo='text',\n",
    "    marker=dict(\n",
    "        showscale=True,\n",
    "        colorscale='YlGnBu',\n",
    "        reversescale=True,\n",
    "        color=maps,\n",
    "        size=10,\n",
    "        colorbar=dict(\n",
    "            thickness=15,\n",
    "            title='Node Connections',\n",
    "            xanchor='left',\n",
    "            titleside='right'\n",
    "        ),\n",
    "        line_width=2))\n",
    "\n",
    "node_trace.text = [i + \" Number of Links: \" + str(degrees[i]) for i in degrees]"
   ]
  },
  {
   "cell_type": "code",
   "execution_count": 13,
   "metadata": {},
   "outputs": [
    {
     "data": {
      "application/vnd.plotly.v1+json": {
       "config": {
        "plotlyServerURL": "https://plot.ly"
       },
       "data": [
        {
         "hoverinfo": "none",
         "line": {
          "color": "#25488e",
          "width": 0.5
         },
         "mode": "lines",
         "type": "scatter",
         "x": [
          -0.5789473684210528,
          1,
          null,
          -0.5789473684210528,
          1,
          null,
          1,
          -0.5789473684210528,
          null,
          1,
          -0.5789473684210528,
          null,
          1,
          -0.5789473684210528,
          null,
          1,
          -0.5789473684210528,
          null,
          -0.5789473684210528,
          1,
          null,
          -0.5789473684210528,
          1,
          null,
          1,
          -0.5789473684210528,
          null,
          1,
          -0.5789473684210528,
          null,
          1,
          -0.5789473684210528,
          null,
          1,
          -0.5789473684210528,
          null,
          1,
          -0.5789473684210528,
          null,
          1,
          -0.5789473684210528,
          null,
          -0.5789473684210528,
          1,
          null,
          -0.5789473684210528,
          1,
          null,
          1,
          -0.5789473684210528,
          null,
          -0.5789473684210528,
          1,
          null,
          -0.5789473684210528,
          1,
          null,
          -0.5789473684210528,
          1,
          null,
          -0.5789473684210528,
          1,
          null,
          -0.5789473684210528,
          1,
          null
         ],
         "y": [
          -0.06578947368421055,
          4.3824593077308816e-18,
          null,
          -0.06578947368421055,
          -0.4736842105263159,
          null,
          4.3824593077308816e-18,
          -0.5263157894736843,
          null,
          4.3824593077308816e-18,
          -0.32894736842105265,
          null,
          -0.4736842105263159,
          -0.5263157894736843,
          null,
          -0.4736842105263159,
          -0.32894736842105265,
          null,
          -0.26315789473684215,
          0.35526315789473695,
          null,
          0.3947368421052631,
          0.4736842105263159,
          null,
          0.4736842105263159,
          4.3824593077308816e-18,
          null,
          0.4736842105263159,
          0.26315789473684215,
          null,
          0.4736842105263159,
          -0.3947368421052632,
          null,
          0.4736842105263159,
          0.5921052631578948,
          null,
          0.4736842105263159,
          0.19736842105263155,
          null,
          0.4736842105263159,
          0.4605263157894737,
          null,
          0.06578947368421056,
          0.236842105263158,
          null,
          0.32894736842105254,
          0.5921052631578948,
          null,
          0.5921052631578948,
          -0.1973684210526316,
          null,
          -0.13157894736842113,
          -0.11842105263157894,
          null,
          0.5263157894736843,
          -0.5921052631578948,
          null,
          -0.46052631578947373,
          0.11842105263157907,
          null,
          -0.5921052631578948,
          -0.23684210526315788,
          null,
          0.131578947368421,
          -0.3552631578947369,
          null
         ]
        },
        {
         "hoverinfo": "text",
         "marker": {
          "color": [
           2,
           3,
           3,
           1,
           1,
           1,
           7,
           1,
           1,
           1,
           2,
           1,
           2,
           1,
           1,
           2,
           1,
           1,
           1,
           1,
           1,
           1,
           1,
           1,
           1,
           1,
           1,
           1,
           1,
           1
          ],
          "colorbar": {
           "thickness": 15,
           "title": {
            "side": "right",
            "text": "Node Connections"
           },
           "xanchor": "left"
          },
          "colorscale": [
           [
            0,
            "rgb(255,255,217)"
           ],
           [
            0.125,
            "rgb(237,248,177)"
           ],
           [
            0.25,
            "rgb(199,233,180)"
           ],
           [
            0.375,
            "rgb(127,205,187)"
           ],
           [
            0.5,
            "rgb(65,182,196)"
           ],
           [
            0.625,
            "rgb(29,145,192)"
           ],
           [
            0.75,
            "rgb(34,94,168)"
           ],
           [
            0.875,
            "rgb(37,52,148)"
           ],
           [
            1,
            "rgb(8,29,88)"
           ]
          ],
          "line": {
           "width": 2
          },
          "reversescale": true,
          "showscale": true,
          "size": 10
         },
         "mode": "markers",
         "text": [
          "PLANT01 Number of Links: 2",
          "PORT01 Number of Links: 3",
          "PORT02 Number of Links: 3",
          "PLANT02 Number of Links: 1",
          "PORT03 Number of Links: 1",
          "PLANT03 Number of Links: 1",
          "PORT04 Number of Links: 7",
          "PLANT04 Number of Links: 1",
          "PORT05 Number of Links: 1",
          "PLANT05 Number of Links: 1",
          "PORT06 Number of Links: 2",
          "PLANT06 Number of Links: 1",
          "PLANT07 Number of Links: 2",
          "PLANT08 Number of Links: 1",
          "PLANT09 Number of Links: 1",
          "PLANT10 Number of Links: 2",
          "PLANT11 Number of Links: 1",
          "PLANT12 Number of Links: 1",
          "PLANT13 Number of Links: 1",
          "PLANT14 Number of Links: 1",
          "PORT07 Number of Links: 1",
          "PLANT15 Number of Links: 1",
          "PORT08 Number of Links: 1",
          "PLANT16 Number of Links: 1",
          "PORT09 Number of Links: 1",
          "PLANT17 Number of Links: 1",
          "PORT10 Number of Links: 1",
          "PLANT18 Number of Links: 1",
          "PORT11 Number of Links: 1",
          "PLANT19 Number of Links: 1"
         ],
         "type": "scatter",
         "x": [
          -0.5789473684210528,
          1,
          1,
          -0.5789473684210528,
          1,
          -0.5789473684210528,
          1,
          -0.5789473684210528,
          1,
          -0.5789473684210528,
          1,
          -0.5789473684210528,
          -0.5789473684210528,
          -0.5789473684210528,
          -0.5789473684210528,
          -0.5789473684210528,
          -0.5789473684210528,
          -0.5789473684210528,
          -0.5789473684210528,
          -0.5789473684210528,
          1,
          -0.5789473684210528,
          1,
          -0.5789473684210528,
          1,
          -0.5789473684210528,
          1,
          -0.5789473684210528,
          1,
          -0.5789473684210528
         ],
         "y": [
          -0.06578947368421055,
          4.3824593077308816e-18,
          -0.4736842105263159,
          -0.26315789473684215,
          0.35526315789473695,
          0.3947368421052631,
          0.4736842105263159,
          0.06578947368421056,
          0.236842105263158,
          0.32894736842105254,
          0.5921052631578948,
          -0.1973684210526316,
          -0.5263157894736843,
          4.3824593077308816e-18,
          0.26315789473684215,
          -0.32894736842105265,
          -0.3947368421052632,
          0.5921052631578948,
          0.19736842105263155,
          -0.13157894736842113,
          -0.11842105263157894,
          0.5263157894736843,
          -0.5921052631578948,
          -0.46052631578947373,
          0.11842105263157907,
          -0.5921052631578948,
          -0.23684210526315788,
          0.131578947368421,
          -0.3552631578947369,
          0.4605263157894737
         ]
        }
       ],
       "layout": {
        "annotations": [
         {
          "showarrow": false,
          "text": "Factories",
          "x": 0.005,
          "xref": "paper",
          "y": -0.002,
          "yref": "paper"
         },
         {
          "showarrow": false,
          "text": "Ports",
          "x": 0.95,
          "xref": "paper",
          "y": -0.002,
          "yref": "paper"
         }
        ],
        "hovermode": "closest",
        "margin": {
         "b": 20,
         "l": 5,
         "r": 5,
         "t": 40
        },
        "showlegend": false,
        "template": {
         "data": {
          "bar": [
           {
            "error_x": {
             "color": "#2a3f5f"
            },
            "error_y": {
             "color": "#2a3f5f"
            },
            "marker": {
             "line": {
              "color": "#E5ECF6",
              "width": 0.5
             },
             "pattern": {
              "fillmode": "overlay",
              "size": 10,
              "solidity": 0.2
             }
            },
            "type": "bar"
           }
          ],
          "barpolar": [
           {
            "marker": {
             "line": {
              "color": "#E5ECF6",
              "width": 0.5
             },
             "pattern": {
              "fillmode": "overlay",
              "size": 10,
              "solidity": 0.2
             }
            },
            "type": "barpolar"
           }
          ],
          "carpet": [
           {
            "aaxis": {
             "endlinecolor": "#2a3f5f",
             "gridcolor": "white",
             "linecolor": "white",
             "minorgridcolor": "white",
             "startlinecolor": "#2a3f5f"
            },
            "baxis": {
             "endlinecolor": "#2a3f5f",
             "gridcolor": "white",
             "linecolor": "white",
             "minorgridcolor": "white",
             "startlinecolor": "#2a3f5f"
            },
            "type": "carpet"
           }
          ],
          "choropleth": [
           {
            "colorbar": {
             "outlinewidth": 0,
             "ticks": ""
            },
            "type": "choropleth"
           }
          ],
          "contour": [
           {
            "colorbar": {
             "outlinewidth": 0,
             "ticks": ""
            },
            "colorscale": [
             [
              0,
              "#0d0887"
             ],
             [
              0.1111111111111111,
              "#46039f"
             ],
             [
              0.2222222222222222,
              "#7201a8"
             ],
             [
              0.3333333333333333,
              "#9c179e"
             ],
             [
              0.4444444444444444,
              "#bd3786"
             ],
             [
              0.5555555555555556,
              "#d8576b"
             ],
             [
              0.6666666666666666,
              "#ed7953"
             ],
             [
              0.7777777777777778,
              "#fb9f3a"
             ],
             [
              0.8888888888888888,
              "#fdca26"
             ],
             [
              1,
              "#f0f921"
             ]
            ],
            "type": "contour"
           }
          ],
          "contourcarpet": [
           {
            "colorbar": {
             "outlinewidth": 0,
             "ticks": ""
            },
            "type": "contourcarpet"
           }
          ],
          "heatmap": [
           {
            "colorbar": {
             "outlinewidth": 0,
             "ticks": ""
            },
            "colorscale": [
             [
              0,
              "#0d0887"
             ],
             [
              0.1111111111111111,
              "#46039f"
             ],
             [
              0.2222222222222222,
              "#7201a8"
             ],
             [
              0.3333333333333333,
              "#9c179e"
             ],
             [
              0.4444444444444444,
              "#bd3786"
             ],
             [
              0.5555555555555556,
              "#d8576b"
             ],
             [
              0.6666666666666666,
              "#ed7953"
             ],
             [
              0.7777777777777778,
              "#fb9f3a"
             ],
             [
              0.8888888888888888,
              "#fdca26"
             ],
             [
              1,
              "#f0f921"
             ]
            ],
            "type": "heatmap"
           }
          ],
          "heatmapgl": [
           {
            "colorbar": {
             "outlinewidth": 0,
             "ticks": ""
            },
            "colorscale": [
             [
              0,
              "#0d0887"
             ],
             [
              0.1111111111111111,
              "#46039f"
             ],
             [
              0.2222222222222222,
              "#7201a8"
             ],
             [
              0.3333333333333333,
              "#9c179e"
             ],
             [
              0.4444444444444444,
              "#bd3786"
             ],
             [
              0.5555555555555556,
              "#d8576b"
             ],
             [
              0.6666666666666666,
              "#ed7953"
             ],
             [
              0.7777777777777778,
              "#fb9f3a"
             ],
             [
              0.8888888888888888,
              "#fdca26"
             ],
             [
              1,
              "#f0f921"
             ]
            ],
            "type": "heatmapgl"
           }
          ],
          "histogram": [
           {
            "marker": {
             "pattern": {
              "fillmode": "overlay",
              "size": 10,
              "solidity": 0.2
             }
            },
            "type": "histogram"
           }
          ],
          "histogram2d": [
           {
            "colorbar": {
             "outlinewidth": 0,
             "ticks": ""
            },
            "colorscale": [
             [
              0,
              "#0d0887"
             ],
             [
              0.1111111111111111,
              "#46039f"
             ],
             [
              0.2222222222222222,
              "#7201a8"
             ],
             [
              0.3333333333333333,
              "#9c179e"
             ],
             [
              0.4444444444444444,
              "#bd3786"
             ],
             [
              0.5555555555555556,
              "#d8576b"
             ],
             [
              0.6666666666666666,
              "#ed7953"
             ],
             [
              0.7777777777777778,
              "#fb9f3a"
             ],
             [
              0.8888888888888888,
              "#fdca26"
             ],
             [
              1,
              "#f0f921"
             ]
            ],
            "type": "histogram2d"
           }
          ],
          "histogram2dcontour": [
           {
            "colorbar": {
             "outlinewidth": 0,
             "ticks": ""
            },
            "colorscale": [
             [
              0,
              "#0d0887"
             ],
             [
              0.1111111111111111,
              "#46039f"
             ],
             [
              0.2222222222222222,
              "#7201a8"
             ],
             [
              0.3333333333333333,
              "#9c179e"
             ],
             [
              0.4444444444444444,
              "#bd3786"
             ],
             [
              0.5555555555555556,
              "#d8576b"
             ],
             [
              0.6666666666666666,
              "#ed7953"
             ],
             [
              0.7777777777777778,
              "#fb9f3a"
             ],
             [
              0.8888888888888888,
              "#fdca26"
             ],
             [
              1,
              "#f0f921"
             ]
            ],
            "type": "histogram2dcontour"
           }
          ],
          "mesh3d": [
           {
            "colorbar": {
             "outlinewidth": 0,
             "ticks": ""
            },
            "type": "mesh3d"
           }
          ],
          "parcoords": [
           {
            "line": {
             "colorbar": {
              "outlinewidth": 0,
              "ticks": ""
             }
            },
            "type": "parcoords"
           }
          ],
          "pie": [
           {
            "automargin": true,
            "type": "pie"
           }
          ],
          "scatter": [
           {
            "marker": {
             "colorbar": {
              "outlinewidth": 0,
              "ticks": ""
             }
            },
            "type": "scatter"
           }
          ],
          "scatter3d": [
           {
            "line": {
             "colorbar": {
              "outlinewidth": 0,
              "ticks": ""
             }
            },
            "marker": {
             "colorbar": {
              "outlinewidth": 0,
              "ticks": ""
             }
            },
            "type": "scatter3d"
           }
          ],
          "scattercarpet": [
           {
            "marker": {
             "colorbar": {
              "outlinewidth": 0,
              "ticks": ""
             }
            },
            "type": "scattercarpet"
           }
          ],
          "scattergeo": [
           {
            "marker": {
             "colorbar": {
              "outlinewidth": 0,
              "ticks": ""
             }
            },
            "type": "scattergeo"
           }
          ],
          "scattergl": [
           {
            "marker": {
             "colorbar": {
              "outlinewidth": 0,
              "ticks": ""
             }
            },
            "type": "scattergl"
           }
          ],
          "scattermapbox": [
           {
            "marker": {
             "colorbar": {
              "outlinewidth": 0,
              "ticks": ""
             }
            },
            "type": "scattermapbox"
           }
          ],
          "scatterpolar": [
           {
            "marker": {
             "colorbar": {
              "outlinewidth": 0,
              "ticks": ""
             }
            },
            "type": "scatterpolar"
           }
          ],
          "scatterpolargl": [
           {
            "marker": {
             "colorbar": {
              "outlinewidth": 0,
              "ticks": ""
             }
            },
            "type": "scatterpolargl"
           }
          ],
          "scatterternary": [
           {
            "marker": {
             "colorbar": {
              "outlinewidth": 0,
              "ticks": ""
             }
            },
            "type": "scatterternary"
           }
          ],
          "surface": [
           {
            "colorbar": {
             "outlinewidth": 0,
             "ticks": ""
            },
            "colorscale": [
             [
              0,
              "#0d0887"
             ],
             [
              0.1111111111111111,
              "#46039f"
             ],
             [
              0.2222222222222222,
              "#7201a8"
             ],
             [
              0.3333333333333333,
              "#9c179e"
             ],
             [
              0.4444444444444444,
              "#bd3786"
             ],
             [
              0.5555555555555556,
              "#d8576b"
             ],
             [
              0.6666666666666666,
              "#ed7953"
             ],
             [
              0.7777777777777778,
              "#fb9f3a"
             ],
             [
              0.8888888888888888,
              "#fdca26"
             ],
             [
              1,
              "#f0f921"
             ]
            ],
            "type": "surface"
           }
          ],
          "table": [
           {
            "cells": {
             "fill": {
              "color": "#EBF0F8"
             },
             "line": {
              "color": "white"
             }
            },
            "header": {
             "fill": {
              "color": "#C8D4E3"
             },
             "line": {
              "color": "white"
             }
            },
            "type": "table"
           }
          ]
         },
         "layout": {
          "annotationdefaults": {
           "arrowcolor": "#2a3f5f",
           "arrowhead": 0,
           "arrowwidth": 1
          },
          "autotypenumbers": "strict",
          "coloraxis": {
           "colorbar": {
            "outlinewidth": 0,
            "ticks": ""
           }
          },
          "colorscale": {
           "diverging": [
            [
             0,
             "#8e0152"
            ],
            [
             0.1,
             "#c51b7d"
            ],
            [
             0.2,
             "#de77ae"
            ],
            [
             0.3,
             "#f1b6da"
            ],
            [
             0.4,
             "#fde0ef"
            ],
            [
             0.5,
             "#f7f7f7"
            ],
            [
             0.6,
             "#e6f5d0"
            ],
            [
             0.7,
             "#b8e186"
            ],
            [
             0.8,
             "#7fbc41"
            ],
            [
             0.9,
             "#4d9221"
            ],
            [
             1,
             "#276419"
            ]
           ],
           "sequential": [
            [
             0,
             "#0d0887"
            ],
            [
             0.1111111111111111,
             "#46039f"
            ],
            [
             0.2222222222222222,
             "#7201a8"
            ],
            [
             0.3333333333333333,
             "#9c179e"
            ],
            [
             0.4444444444444444,
             "#bd3786"
            ],
            [
             0.5555555555555556,
             "#d8576b"
            ],
            [
             0.6666666666666666,
             "#ed7953"
            ],
            [
             0.7777777777777778,
             "#fb9f3a"
            ],
            [
             0.8888888888888888,
             "#fdca26"
            ],
            [
             1,
             "#f0f921"
            ]
           ],
           "sequentialminus": [
            [
             0,
             "#0d0887"
            ],
            [
             0.1111111111111111,
             "#46039f"
            ],
            [
             0.2222222222222222,
             "#7201a8"
            ],
            [
             0.3333333333333333,
             "#9c179e"
            ],
            [
             0.4444444444444444,
             "#bd3786"
            ],
            [
             0.5555555555555556,
             "#d8576b"
            ],
            [
             0.6666666666666666,
             "#ed7953"
            ],
            [
             0.7777777777777778,
             "#fb9f3a"
            ],
            [
             0.8888888888888888,
             "#fdca26"
            ],
            [
             1,
             "#f0f921"
            ]
           ]
          },
          "colorway": [
           "#636efa",
           "#EF553B",
           "#00cc96",
           "#ab63fa",
           "#FFA15A",
           "#19d3f3",
           "#FF6692",
           "#B6E880",
           "#FF97FF",
           "#FECB52"
          ],
          "font": {
           "color": "#2a3f5f"
          },
          "geo": {
           "bgcolor": "white",
           "lakecolor": "white",
           "landcolor": "#E5ECF6",
           "showlakes": true,
           "showland": true,
           "subunitcolor": "white"
          },
          "hoverlabel": {
           "align": "left"
          },
          "hovermode": "closest",
          "mapbox": {
           "style": "light"
          },
          "paper_bgcolor": "white",
          "plot_bgcolor": "#E5ECF6",
          "polar": {
           "angularaxis": {
            "gridcolor": "white",
            "linecolor": "white",
            "ticks": ""
           },
           "bgcolor": "#E5ECF6",
           "radialaxis": {
            "gridcolor": "white",
            "linecolor": "white",
            "ticks": ""
           }
          },
          "scene": {
           "xaxis": {
            "backgroundcolor": "#E5ECF6",
            "gridcolor": "white",
            "gridwidth": 2,
            "linecolor": "white",
            "showbackground": true,
            "ticks": "",
            "zerolinecolor": "white"
           },
           "yaxis": {
            "backgroundcolor": "#E5ECF6",
            "gridcolor": "white",
            "gridwidth": 2,
            "linecolor": "white",
            "showbackground": true,
            "ticks": "",
            "zerolinecolor": "white"
           },
           "zaxis": {
            "backgroundcolor": "#E5ECF6",
            "gridcolor": "white",
            "gridwidth": 2,
            "linecolor": "white",
            "showbackground": true,
            "ticks": "",
            "zerolinecolor": "white"
           }
          },
          "shapedefaults": {
           "line": {
            "color": "#2a3f5f"
           }
          },
          "ternary": {
           "aaxis": {
            "gridcolor": "white",
            "linecolor": "white",
            "ticks": ""
           },
           "baxis": {
            "gridcolor": "white",
            "linecolor": "white",
            "ticks": ""
           },
           "bgcolor": "#E5ECF6",
           "caxis": {
            "gridcolor": "white",
            "linecolor": "white",
            "ticks": ""
           }
          },
          "title": {
           "x": 0.05
          },
          "xaxis": {
           "automargin": true,
           "gridcolor": "white",
           "linecolor": "white",
           "ticks": "",
           "title": {
            "standoff": 15
           },
           "zerolinecolor": "white",
           "zerolinewidth": 2
          },
          "yaxis": {
           "automargin": true,
           "gridcolor": "white",
           "linecolor": "white",
           "ticks": "",
           "title": {
            "standoff": 15
           },
           "zerolinecolor": "white",
           "zerolinewidth": 2
          }
         }
        },
        "title": {
         "font": {
          "size": 16
         },
         "text": "<br>Supply Chain"
        },
        "xaxis": {
         "showgrid": true,
         "showticklabels": true,
         "zeroline": false
        },
        "yaxis": {
         "showgrid": true,
         "showticklabels": true,
         "zeroline": false
        }
       }
      }
     },
     "metadata": {},
     "output_type": "display_data"
    }
   ],
   "source": [
    "fig = go.Figure(data=[edge_trace, node_trace],\n",
    "             layout=go.Layout(\n",
    "                title='<br>Supply Chain',\n",
    "                titlefont_size=16,\n",
    "                showlegend=False,\n",
    "                hovermode='closest',\n",
    "                margin=dict(b=20,l=5,r=5,t=40),\n",
    "                annotations=[dict(text=\"Factories\",\n",
    "                     showarrow=False,\n",
    "                     xref=\"paper\", yref=\"paper\",\n",
    "                     x=0.005, y=-0.002 ),\n",
    "                             dict(text=\"Ports\",\n",
    "                     showarrow=False,\n",
    "                     xref=\"paper\", yref=\"paper\",\n",
    "                     x=0.95, y=-0.002 )],\n",
    "                xaxis=dict(showgrid=True, zeroline=False, showticklabels=True),\n",
    "                yaxis=dict(showgrid=True, zeroline=False, showticklabels=True))\n",
    "                )\n",
    "fig"
   ]
  },
  {
   "cell_type": "markdown",
   "metadata": {},
   "source": [
    "### Preparing the Order Table"
   ]
  },
  {
   "cell_type": "code",
   "execution_count": 15,
   "metadata": {},
   "outputs": [],
   "source": [
    "order_new = order_list.drop(columns=[\"Order_Date\", \"Origin_Port\", \"Carrier\", \"Plant_Code\", \"TPT\", \"Service_Level\", \"Ship_ahead_day_count\", \"Ship_Late_Day_count\"])\n",
    "order_new.set_index(\"Order_ID\", inplace=True)\n",
    "order_new.to_csv(\"order_new.csv\")"
   ]
  },
  {
   "cell_type": "markdown",
   "metadata": {},
   "source": [
    "### Preparing Freight Table"
   ]
  },
  {
   "cell_type": "code",
   "execution_count": 16,
   "metadata": {},
   "outputs": [],
   "source": [
    "freight_rates.drop(columns=[\"dest_port_cd\", \"Carrier type\", \"svc_cd\"], inplace=True)\n",
    "freight_rates.to_csv(\"FreightRates_mod.csv\")"
   ]
  },
  {
   "cell_type": "markdown",
   "metadata": {},
   "source": [
    "### Problem Restrictions"
   ]
  },
  {
   "cell_type": "code",
   "execution_count": 17,
   "metadata": {},
   "outputs": [],
   "source": [
    "# given a product id, return the plants that can produce this product.\n",
    "def product_restriction(index):\n",
    "    data = order_new.loc[index]\n",
    "    product_id = data[\"Product_ID\"]\n",
    "    possible_plants = products_plants.loc[products_plants[\"Product_ID\"] == product_id]\n",
    "    return np.array(possible_plants[\"Plant_Code\"])"
   ]
  },
  {
   "cell_type": "code",
   "execution_count": 20,
   "metadata": {},
   "outputs": [],
   "source": [
    "# vmi restriction: check if a given customer has to be serviced by a specific facility, else return all facilities as possibilities.\n",
    "def customer_restriction(index):\n",
    "    data = order_new.loc[index]\n",
    "    Customer_id = data[\"Customer\"]\n",
    "    possible_plants = vmi_plants.loc[vmi_plants[\"Customers\"] == Customer_id]\n",
    "    if list(possible_plants[\"Plant_Code\"]) == []:\n",
    "        return plant_ports[\"Plant_Code\"].unique()\n",
    "    else:\n",
    "        return np.array(possible_plants[\"Plant_Code\"])"
   ]
  },
  {
   "cell_type": "code",
   "execution_count": 18,
   "metadata": {},
   "outputs": [],
   "source": [
    "# combine both the product and vmi restriction. There will be orders for which only one, or possibly even 0, facilities can fullfil it.\n",
    "def check_order(Order_Id, length=True):\n",
    "    if length:\n",
    "        return len(np.intersect1d(customer_restriction(Order_Id), product_restriction(Order_Id)))\n",
    "    else:\n",
    "        return np.intersect1d(customer_restriction(Order_Id), product_restriction(Order_Id))"
   ]
  },
  {
   "cell_type": "code",
   "execution_count": 21,
   "metadata": {},
   "outputs": [],
   "source": [
    "# under the restrictions above, we can calculate the number of facilities that can process a given order.\n",
    "order_new[\"decision_space_size\"] = np.array(list(map(check_order, order_new.index)))"
   ]
  },
  {
   "cell_type": "code",
   "execution_count": null,
   "metadata": {},
   "outputs": [],
   "source": [
    "order_new[\"decision_space_size\"].value_counts()"
   ]
  },
  {
   "cell_type": "markdown",
   "metadata": {},
   "source": [
    "We can see that for most orders, there is only one facility that can handle the order. For ~1,000 there is no possible facility that can handle the order given our problem restrictions, we will exclude these orders from our further optimization problem."
   ]
  },
  {
   "cell_type": "markdown",
   "metadata": {},
   "source": [
    "### Assigning orders"
   ]
  },
  {
   "cell_type": "code",
   "execution_count": 34,
   "metadata": {},
   "outputs": [],
   "source": [
    "ports_agg = freight_rates.groupby([\"orig_port_cd\"]).agg(avg_rate=(\"rate\", np.mean))"
   ]
  },
  {
   "cell_type": "code",
   "execution_count": 23,
   "metadata": {},
   "outputs": [],
   "source": [
    "# we will exclude orders that cannot be processed by any facility (i.e. where the decision space size == 0)\n",
    "order_new = order_new.loc[order_new.decision_space_size != 0]"
   ]
  },
  {
   "cell_type": "code",
   "execution_count": 26,
   "metadata": {},
   "outputs": [],
   "source": [
    "# return the possible plants that can process the order.\n",
    "order_new[\"decision_space_plants\"] = np.array((map(lambda x: check_order(x, length=False), order_new.index)))"
   ]
  },
  {
   "cell_type": "code",
   "execution_count": 139,
   "metadata": {},
   "outputs": [],
   "source": [
    "def min_cost(dec_space):\n",
    "    \n",
    "    plant_port_cost = {}\n",
    "    \n",
    "    wh = wh_cost.copy()\n",
    "    min_cost = np.inf\n",
    "    \n",
    "    for plant in dec_space:\n",
    "        plant_port_cost[plant] = wh.loc[plant].iloc[0]\n",
    "        port_price, port = find_best_port(plant)\n",
    "        plant_port_cost[plant] += port_price\n",
    "        \n",
    "        if plant_port_cost[plant] < min_cost:\n",
    "            min_cost = plant_port_cost[plant]\n",
    "            best_plant = plant\n",
    "            best_port = port\n",
    "            best_port_price = port_price\n",
    "        \n",
    "        \n",
    "        \n",
    "    return min_cost, best_plant, best_port_price, best_port\n",
    "    # possible_plants = wh_cost.loc[dec_space]\n",
    "    # return possible_plants.loc[possible_plants[\"Cost/unit\"] == min(possible_plants[\"Cost/unit\"])]"
   ]
  },
  {
   "cell_type": "code",
   "execution_count": 132,
   "metadata": {},
   "outputs": [],
   "source": [
    "# given a port and the order specifications return the carrier that can handle the product at the best price.\n",
    "def find_best_port(plant_id):\n",
    "    # choose the ports that have a connection to the given plant and then find the port with the lowest freight rate\n",
    "    possible_ports = plant_ports.loc[(plant_ports.Plant_Code == plant_id) & (plant_ports.Port != \"PORT01\"), \"Port\"]\n",
    "    possible_ports = ports_agg.loc[possible_ports]\n",
    "    return possible_ports.loc[possible_ports[\"avg_rate\"] == min(possible_ports[\"avg_rate\"])].iloc[0][\"avg_rate\"], possible_ports.loc[possible_ports[\"avg_rate\"] == min(possible_ports[\"avg_rate\"])].iloc[0].name\n",
    "    "
   ]
  },
  {
   "cell_type": "code",
   "execution_count": 143,
   "metadata": {},
   "outputs": [],
   "source": [
    "order_new[\"decision\"] = order_new[\"decision_space_plants\"].apply(min_cost)"
   ]
  },
  {
   "cell_type": "code",
   "execution_count": 144,
   "metadata": {},
   "outputs": [
    {
     "data": {
      "text/html": [
       "<div>\n",
       "<style scoped>\n",
       "    .dataframe tbody tr th:only-of-type {\n",
       "        vertical-align: middle;\n",
       "    }\n",
       "\n",
       "    .dataframe tbody tr th {\n",
       "        vertical-align: top;\n",
       "    }\n",
       "\n",
       "    .dataframe thead th {\n",
       "        text-align: right;\n",
       "    }\n",
       "</style>\n",
       "<table border=\"1\" class=\"dataframe\">\n",
       "  <thead>\n",
       "    <tr style=\"text-align: right;\">\n",
       "      <th></th>\n",
       "      <th>Customer</th>\n",
       "      <th>Product_ID</th>\n",
       "      <th>Destination_Port</th>\n",
       "      <th>Unit_quantity</th>\n",
       "      <th>Weight</th>\n",
       "      <th>decision_space_size</th>\n",
       "      <th>decision_space</th>\n",
       "      <th>decision_space_plants</th>\n",
       "      <th>decision</th>\n",
       "    </tr>\n",
       "    <tr>\n",
       "      <th>Order_ID</th>\n",
       "      <th></th>\n",
       "      <th></th>\n",
       "      <th></th>\n",
       "      <th></th>\n",
       "      <th></th>\n",
       "      <th></th>\n",
       "      <th></th>\n",
       "      <th></th>\n",
       "      <th></th>\n",
       "    </tr>\n",
       "  </thead>\n",
       "  <tbody>\n",
       "    <tr>\n",
       "      <th>1.447296e+09</th>\n",
       "      <td>V55555_53</td>\n",
       "      <td>1700106</td>\n",
       "      <td>PORT09</td>\n",
       "      <td>808</td>\n",
       "      <td>14.30</td>\n",
       "      <td>1</td>\n",
       "      <td>[PLANT16]</td>\n",
       "      <td>[PLANT16]</td>\n",
       "      <td>(4.7563741745191, PLANT16, 2.8365666666666667,...</td>\n",
       "    </tr>\n",
       "    <tr>\n",
       "      <th>1.447158e+09</th>\n",
       "      <td>V55555_53</td>\n",
       "      <td>1700106</td>\n",
       "      <td>PORT09</td>\n",
       "      <td>3188</td>\n",
       "      <td>87.94</td>\n",
       "      <td>1</td>\n",
       "      <td>[PLANT16]</td>\n",
       "      <td>[PLANT16]</td>\n",
       "      <td>(4.7563741745191, PLANT16, 2.8365666666666667,...</td>\n",
       "    </tr>\n",
       "  </tbody>\n",
       "</table>\n",
       "</div>"
      ],
      "text/plain": [
       "               Customer  Product_ID Destination_Port  Unit_quantity  Weight  \\\n",
       "Order_ID                                                                      \n",
       "1.447296e+09  V55555_53     1700106           PORT09            808   14.30   \n",
       "1.447158e+09  V55555_53     1700106           PORT09           3188   87.94   \n",
       "\n",
       "              decision_space_size decision_space decision_space_plants  \\\n",
       "Order_ID                                                                 \n",
       "1.447296e+09                    1      [PLANT16]             [PLANT16]   \n",
       "1.447158e+09                    1      [PLANT16]             [PLANT16]   \n",
       "\n",
       "                                                       decision  \n",
       "Order_ID                                                         \n",
       "1.447296e+09  (4.7563741745191, PLANT16, 2.8365666666666667,...  \n",
       "1.447158e+09  (4.7563741745191, PLANT16, 2.8365666666666667,...  "
      ]
     },
     "execution_count": 144,
     "metadata": {},
     "output_type": "execute_result"
    }
   ],
   "source": [
    "order_new.head(2)"
   ]
  },
  {
   "cell_type": "markdown",
   "metadata": {},
   "source": [
    "Most facilities have only one connection to a port. Port 4 is potentially the most important one as it has the most connections to the warehouses."
   ]
  },
  {
   "cell_type": "code",
   "execution_count": null,
   "metadata": {},
   "outputs": [],
   "source": [
    "fig, ax = plt.subplots(1,1, figsize=(10,10))\n",
    "plt.xticks(rotation=45)\n",
    "plant_counts = pd.DataFrame(products_plants[\"Plant_Code\"].value_counts())\n",
    "ax.bar(plant_counts.index, plant_counts[\"Plant_Code\"])"
   ]
  },
  {
   "cell_type": "code",
   "execution_count": null,
   "metadata": {},
   "outputs": [],
   "source": [
    "fig, ax = plt.subplots(1,1, figsize=(10,10))\n",
    "plt.xticks(rotation=45)\n",
    "ax.bar(wh_cost.index, wh_cost[\"Cost/unit\"])"
   ]
  },
  {
   "cell_type": "code",
   "execution_count": 149,
   "metadata": {},
   "outputs": [
    {
     "data": {
      "text/plain": [
       "<AxesSubplot:ylabel='Plant_Code'>"
      ]
     },
     "execution_count": 149,
     "metadata": {},
     "output_type": "execute_result"
    },
    {
     "data": {
      "image/png": "[encoded data removed]",
      "text/plain": [
       "<Figure size 720x720 with 1 Axes>"
      ]
     },
     "metadata": {
      "needs_background": "light"
     },
     "output_type": "display_data"
    }
   ],
   "source": [
    "fig, ax = plt.subplots(1,1, figsize=(10,10))\n",
    "plt.xticks(rotation=45)\n",
    "plant_counts = pd.DataFrame(products_plants[\"Plant_Code\"].value_counts())\n",
    "sns.barplot(x=plant_counts.index,y=plant_counts[\"Plant_Code\"], ax=ax)"
   ]
  },
  {
   "cell_type": "code",
   "execution_count": 150,
   "metadata": {},
   "outputs": [],
   "source": [
    "plant_info = pd.concat([wh_cost, plant_counts], axis=1)"
   ]
  },
  {
   "cell_type": "code",
   "execution_count": 151,
   "metadata": {},
   "outputs": [
    {
     "data": {
      "image/png": "[encoded data removed]",
      "text/plain": [
       "<Figure size 720x720 with 2 Axes>"
      ]
     },
     "metadata": {
      "needs_background": "light"
     },
     "output_type": "display_data"
    }
   ],
   "source": [
    "x = np.arange(len(plant_info.index))\n",
    "width = 0.35\n",
    "fig, ax1 = plt.subplots(figsize=(10,10))\n",
    "plt.xticks(rotation=45)\n",
    "ax1.bar(x - width/2, plant_info[\"Cost/unit\"], width, label='Cost/unit', color=\"blue\")\n",
    "ax1.set_ylabel(\"Cost/unit\")\n",
    "\n",
    "ax2 = ax1.twinx()\n",
    "ax2.bar(x + width/2, plant_info[\"Plant_Code\"], width, label='Capacity', color=\"red\")\n",
    "ax2.set_ylabel(\"Capacity\")\n",
    "\n",
    "ax1.set_xticks(x)\n",
    "ax1.set_xticklabels(list(plant_info.index))\n",
    "plt.show()"
   ]
  },
  {
   "cell_type": "code",
   "execution_count": null,
   "metadata": {},
   "outputs": [],
   "source": []
  }
 ],
 "metadata": {
  "interpreter": {
   "hash": "93ff2fb3ab55f45baf9b992255903249eaebee6bb8e37ed653eb50e096a7d927"
  },
  "kernelspec": {
   "display_name": "Python 3.8.10 64-bit",
   "language": "python",
   "name": "python3"
  },
  "language_info": {
   "codemirror_mode": {
    "name": "ipython",
    "version": 3
   },
   "file_extension": ".py",
   "mimetype": "text/x-python",
   "name": "python",
   "nbconvert_exporter": "python",
   "pygments_lexer": "ipython3",
   "version": "3.8.10"
  },
  "orig_nbformat": 4
 },
 "nbformat": 4,
 "nbformat_minor": 2
}
