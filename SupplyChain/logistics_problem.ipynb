{
 "cells": [
  {
   "cell_type": "markdown",
   "metadata": {},
   "source": [
    "## Production and Transportation Scheduling with (Deep) Reinforcement Learning\n",
    "\n",
    "### Problem Description.\n",
    "\n",
    "- Given a set of orders form customers design a plan that\n",
    "    - selects the appropriate warehouse from which to send the goods\n",
    "    - selects the right carrier to send them with\n",
    "\n",
    "Assumption:\n",
    "\n",
    "- no Warehouse maximal capacity."
   ]
  },
  {
   "cell_type": "code",
   "execution_count": 1,
   "metadata": {},
   "outputs": [],
   "source": [
    "import numpy as np\n",
    "import pandas as pd\n",
    "import networkx as nx\n",
    "import matplotlib.pyplot as plt\n",
    "import plotly.graph_objects as go"
   ]
  },
  {
   "cell_type": "markdown",
   "metadata": {},
   "source": [
    "## Code Implementation\n",
    "\n",
    "### Reading in Data and Graphs"
   ]
  },
  {
   "cell_type": "code",
   "execution_count": 64,
   "metadata": {},
   "outputs": [],
   "source": [
    "plant_ports = pd.read_csv(\"PlantPorts.csv\", index_col=0)\n",
    "order_list = pd.read_csv(\"OrderList.csv\", index_col=0)\n",
    "products_plants = pd.read_csv(\"ProductsPerPlant.csv\", index_col=0)\n",
    "vmi_plants = pd.read_csv(\"VmiCustomers.csv\", index_col=0)\n",
    "freight_rates = pd.read_csv(\"FreightRates.csv\", index_col=0)\n",
    "wh_cost = pd.read_csv(\"WhCosts.csv\", index_col=0)\n",
    "order_list.columns = [i.replace(\" \", \"_\") for i in order_list.columns]\n",
    "products_plants.columns = [i.replace(\" \", \"_\") for i in products_plants.columns]\n",
    "plant_ports.columns = [i.replace(\" \", \"_\") for i in plant_ports.columns]\n",
    "vmi_plants.columns = [i.replace(\" \", \"_\") for i in vmi_plants.columns]"
   ]
  },
  {
   "cell_type": "code",
   "execution_count": 65,
   "metadata": {},
   "outputs": [],
   "source": [
    "plant_ports_graph = nx.from_pandas_edgelist(plant_ports, source=\"Plant_Code\", target=\"Port\")"
   ]
  },
  {
   "cell_type": "markdown",
   "metadata": {},
   "source": [
    "### Preparing the Order Table"
   ]
  },
  {
   "cell_type": "code",
   "execution_count": 66,
   "metadata": {},
   "outputs": [],
   "source": [
    "order_new = order_list.drop(columns=[\"Order_Date\", \"Origin_Port\", \"Carrier\", \"Plant_Code\", \"TPT\", \"Service_Level\", \"Ship_ahead_day_count\", \"Ship_Late_Day_count\"])\n",
    "order_new.set_index(\"Order_ID\", inplace=True)\n",
    "order_new.to_csv(\"order_new.csv\")"
   ]
  },
  {
   "cell_type": "markdown",
   "metadata": {},
   "source": [
    "### Preparing Freight Table"
   ]
  },
  {
   "cell_type": "code",
   "execution_count": 67,
   "metadata": {},
   "outputs": [],
   "source": [
    "freight_rates.drop(columns=[\"dest_port_cd\", \"Carrier type\", \"svc_cd\"], inplace=True)\n",
    "freight_rates.to_csv(\"FreightRates_mod.csv\")"
   ]
  },
  {
   "cell_type": "markdown",
   "metadata": {},
   "source": [
    "### Problem Restrictions"
   ]
  },
  {
   "cell_type": "code",
   "execution_count": 68,
   "metadata": {},
   "outputs": [],
   "source": [
    "# given a product id, return the plants that can produce this product.\n",
    "def product_restriction(index):\n",
    "    data = order_new.loc[index]\n",
    "    product_id = data[\"Product_ID\"]\n",
    "    possible_plants = products_plants.loc[products_plants[\"Product_ID\"] == product_id]\n",
    "    return np.array(possible_plants[\"Plant_Code\"])"
   ]
  },
  {
   "cell_type": "code",
   "execution_count": 52,
   "metadata": {},
   "outputs": [],
   "source": [
    "# check if a given customer HAS to be serviced by a specific facility, else return all facilities as possibilities.\n",
    "def customer_restriction(index):\n",
    "    data = order_new.loc[index]\n",
    "    Customer_id = data[\"Customer\"]\n",
    "    possible_plants = vmi_plants.loc[vmi_plants[\"Customers\"] == Customer_id]\n",
    "    if list(possible_plants[\"Plant_Code\"]) == []:\n",
    "        return plant_ports[\"Plant_Code\"].unique()\n",
    "    else:\n",
    "        return np.array(possible_plants[\"Plant_Code\"])"
   ]
  },
  {
   "cell_type": "code",
   "execution_count": 56,
   "metadata": {},
   "outputs": [],
   "source": [
    "# combine both the product and vmi restriction. There will be orders for which only one facility can fullfil it.\n",
    "def check_order(Order_Id, length=True):\n",
    "    if length:\n",
    "        return len(np.intersect1d(customer_restriction(Order_Id), product_restriction(Order_Id)))\n",
    "    else:\n",
    "        return np.intersect1d(customer_restriction(Order_Id), product_restriction(Order_Id))"
   ]
  },
  {
   "cell_type": "code",
   "execution_count": 70,
   "metadata": {},
   "outputs": [],
   "source": [
    "# under the restrictions above, we can calculate the number of facilities that can process a given order.\n",
    "order_new[\"decision_space_size\"] = np.array(list(map(check_order, order_new.index)))"
   ]
  },
  {
   "cell_type": "code",
   "execution_count": null,
   "metadata": {},
   "outputs": [],
   "source": [
    "order_new[\"decision_space_size\"].value_counts()"
   ]
  },
  {
   "cell_type": "markdown",
   "metadata": {},
   "source": [
    "We can see that for most orders, there is only one facility that can handle the order. For ~1,000 there is no possible facility that can handle the order. "
   ]
  },
  {
   "cell_type": "code",
   "execution_count": 30,
   "metadata": {},
   "outputs": [],
   "source": [
    "# given a facility, return the possible ports from which the goods can be sent.\n",
    "def port_restriction(plant_code):\n",
    "    return plant_ports.loc[plant_ports.Plant_Code == plant_code, \"Port\"]"
   ]
  },
  {
   "cell_type": "code",
   "execution_count": 40,
   "metadata": {},
   "outputs": [],
   "source": [
    "# given the port from which the good is supposed to be shipped, return the possible carriers that can ship it.\n",
    "def carrier_restriction(orig_port_cd):\n",
    "    return freight_rates.loc[freight_rates.orig_port_cd == orig_port_cd]"
   ]
  },
  {
   "cell_type": "code",
   "execution_count": null,
   "metadata": {},
   "outputs": [],
   "source": [
    "carrier_restriction(\"PORT08\")"
   ]
  },
  {
   "cell_type": "code",
   "execution_count": 33,
   "metadata": {},
   "outputs": [
    {
     "data": {
      "text/plain": [
       "3    PORT04\n",
       "Name: Port, dtype: object"
      ]
     },
     "execution_count": 33,
     "metadata": {},
     "output_type": "execute_result"
    }
   ],
   "source": [
    "port_restriction(\"PLANT03\")"
   ]
  },
  {
   "cell_type": "markdown",
   "metadata": {},
   "source": [
    "### Scheduling orders with Decision Space Size = 1\n",
    "\n",
    "For these orders, we do not need to worry about assigning orders to the right warehouse."
   ]
  },
  {
   "cell_type": "code",
   "execution_count": 71,
   "metadata": {},
   "outputs": [],
   "source": [
    "order_one = order_new.loc[order_new.decision_space_size == 1]"
   ]
  },
  {
   "cell_type": "code",
   "execution_count": 74,
   "metadata": {},
   "outputs": [
    {
     "name": "stderr",
     "output_type": "stream",
     "text": [
      "C:\\Users\\lbmm\\AppData\\Local\\Temp/ipykernel_1756/1167662604.py:1: SettingWithCopyWarning: \n",
      "A value is trying to be set on a copy of a slice from a DataFrame.\n",
      "Try using .loc[row_indexer,col_indexer] = value instead\n",
      "\n",
      "See the caveats in the documentation: https://pandas.pydata.org/pandas-docs/stable/user_guide/indexing.html#returning-a-view-versus-a-copy\n",
      "  order_one[\"decision_space\"] = np.array(list(map(lambda x: check_order(x, length=False), order_one.index)))\n"
     ]
    }
   ],
   "source": [
    "order_one[\"decision_space\"] = np.array(list(map(lambda x: check_order(x, length=False), order_one.index)))"
   ]
  },
  {
   "cell_type": "code",
   "execution_count": 61,
   "metadata": {},
   "outputs": [
    {
     "data": {
      "text/html": [
       "<div>\n",
       "<style scoped>\n",
       "    .dataframe tbody tr th:only-of-type {\n",
       "        vertical-align: middle;\n",
       "    }\n",
       "\n",
       "    .dataframe tbody tr th {\n",
       "        vertical-align: top;\n",
       "    }\n",
       "\n",
       "    .dataframe thead th {\n",
       "        text-align: right;\n",
       "    }\n",
       "</style>\n",
       "<table border=\"1\" class=\"dataframe\">\n",
       "  <thead>\n",
       "    <tr style=\"text-align: right;\">\n",
       "      <th></th>\n",
       "      <th>Customer</th>\n",
       "      <th>Product_ID</th>\n",
       "      <th>Destination_Port</th>\n",
       "      <th>Unit_quantity</th>\n",
       "      <th>Weight</th>\n",
       "      <th>decision_space_size</th>\n",
       "      <th>decision_space</th>\n",
       "    </tr>\n",
       "    <tr>\n",
       "      <th>Order_ID</th>\n",
       "      <th></th>\n",
       "      <th></th>\n",
       "      <th></th>\n",
       "      <th></th>\n",
       "      <th></th>\n",
       "      <th></th>\n",
       "      <th></th>\n",
       "    </tr>\n",
       "  </thead>\n",
       "  <tbody>\n",
       "    <tr>\n",
       "      <th>1.447296e+09</th>\n",
       "      <td>V55555_53</td>\n",
       "      <td>1700106</td>\n",
       "      <td>PORT09</td>\n",
       "      <td>808</td>\n",
       "      <td>14.300000</td>\n",
       "      <td>1</td>\n",
       "      <td>PLANT16</td>\n",
       "    </tr>\n",
       "    <tr>\n",
       "      <th>1.447158e+09</th>\n",
       "      <td>V55555_53</td>\n",
       "      <td>1700106</td>\n",
       "      <td>PORT09</td>\n",
       "      <td>3188</td>\n",
       "      <td>87.940000</td>\n",
       "      <td>1</td>\n",
       "      <td>PLANT16</td>\n",
       "    </tr>\n",
       "    <tr>\n",
       "      <th>1.447139e+09</th>\n",
       "      <td>V55555_53</td>\n",
       "      <td>1700106</td>\n",
       "      <td>PORT09</td>\n",
       "      <td>2331</td>\n",
       "      <td>61.200000</td>\n",
       "      <td>1</td>\n",
       "      <td>PLANT16</td>\n",
       "    </tr>\n",
       "    <tr>\n",
       "      <th>1.447364e+09</th>\n",
       "      <td>V55555_53</td>\n",
       "      <td>1700106</td>\n",
       "      <td>PORT09</td>\n",
       "      <td>847</td>\n",
       "      <td>16.160000</td>\n",
       "      <td>1</td>\n",
       "      <td>PLANT16</td>\n",
       "    </tr>\n",
       "    <tr>\n",
       "      <th>1.447364e+09</th>\n",
       "      <td>V55555_53</td>\n",
       "      <td>1700106</td>\n",
       "      <td>PORT09</td>\n",
       "      <td>2163</td>\n",
       "      <td>52.340000</td>\n",
       "      <td>1</td>\n",
       "      <td>PLANT16</td>\n",
       "    </tr>\n",
       "    <tr>\n",
       "      <th>...</th>\n",
       "      <td>...</td>\n",
       "      <td>...</td>\n",
       "      <td>...</td>\n",
       "      <td>...</td>\n",
       "      <td>...</td>\n",
       "      <td>...</td>\n",
       "      <td>...</td>\n",
       "    </tr>\n",
       "    <tr>\n",
       "      <th>1.447372e+09</th>\n",
       "      <td>V55555555555555_8</td>\n",
       "      <td>1690628</td>\n",
       "      <td>PORT09</td>\n",
       "      <td>247</td>\n",
       "      <td>0.415441</td>\n",
       "      <td>1</td>\n",
       "      <td>PLANT02</td>\n",
       "    </tr>\n",
       "    <tr>\n",
       "      <th>1.447372e+09</th>\n",
       "      <td>V55555555555555_8</td>\n",
       "      <td>1690628</td>\n",
       "      <td>PORT09</td>\n",
       "      <td>352</td>\n",
       "      <td>1.038603</td>\n",
       "      <td>1</td>\n",
       "      <td>PLANT02</td>\n",
       "    </tr>\n",
       "    <tr>\n",
       "      <th>1.447328e+09</th>\n",
       "      <td>V55555555555555_8</td>\n",
       "      <td>1690628</td>\n",
       "      <td>PORT09</td>\n",
       "      <td>343</td>\n",
       "      <td>0.692402</td>\n",
       "      <td>1</td>\n",
       "      <td>PLANT02</td>\n",
       "    </tr>\n",
       "    <tr>\n",
       "      <th>1.447358e+09</th>\n",
       "      <td>V55555555555555_8</td>\n",
       "      <td>1690628</td>\n",
       "      <td>PORT09</td>\n",
       "      <td>327</td>\n",
       "      <td>2.769607</td>\n",
       "      <td>1</td>\n",
       "      <td>PLANT02</td>\n",
       "    </tr>\n",
       "    <tr>\n",
       "      <th>1.447287e+09</th>\n",
       "      <td>V55555555555555_8</td>\n",
       "      <td>1690628</td>\n",
       "      <td>PORT09</td>\n",
       "      <td>296</td>\n",
       "      <td>1.038603</td>\n",
       "      <td>1</td>\n",
       "      <td>PLANT02</td>\n",
       "    </tr>\n",
       "  </tbody>\n",
       "</table>\n",
       "<p>6275 rows × 7 columns</p>\n",
       "</div>"
      ],
      "text/plain": [
       "                       Customer  Product_ID Destination_Port  Unit_quantity  \\\n",
       "Order_ID                                                                      \n",
       "1.447296e+09          V55555_53     1700106           PORT09            808   \n",
       "1.447158e+09          V55555_53     1700106           PORT09           3188   \n",
       "1.447139e+09          V55555_53     1700106           PORT09           2331   \n",
       "1.447364e+09          V55555_53     1700106           PORT09            847   \n",
       "1.447364e+09          V55555_53     1700106           PORT09           2163   \n",
       "...                         ...         ...              ...            ...   \n",
       "1.447372e+09  V55555555555555_8     1690628           PORT09            247   \n",
       "1.447372e+09  V55555555555555_8     1690628           PORT09            352   \n",
       "1.447328e+09  V55555555555555_8     1690628           PORT09            343   \n",
       "1.447358e+09  V55555555555555_8     1690628           PORT09            327   \n",
       "1.447287e+09  V55555555555555_8     1690628           PORT09            296   \n",
       "\n",
       "                 Weight  decision_space_size decision_space  \n",
       "Order_ID                                                     \n",
       "1.447296e+09  14.300000                    1        PLANT16  \n",
       "1.447158e+09  87.940000                    1        PLANT16  \n",
       "1.447139e+09  61.200000                    1        PLANT16  \n",
       "1.447364e+09  16.160000                    1        PLANT16  \n",
       "1.447364e+09  52.340000                    1        PLANT16  \n",
       "...                 ...                  ...            ...  \n",
       "1.447372e+09   0.415441                    1        PLANT02  \n",
       "1.447372e+09   1.038603                    1        PLANT02  \n",
       "1.447328e+09   0.692402                    1        PLANT02  \n",
       "1.447358e+09   2.769607                    1        PLANT02  \n",
       "1.447287e+09   1.038603                    1        PLANT02  \n",
       "\n",
       "[6275 rows x 7 columns]"
      ]
     },
     "execution_count": 61,
     "metadata": {},
     "output_type": "execute_result"
    }
   ],
   "source": [
    "order_one[\"wh_cost\"] = order_one[\"Unit_quantity\"]"
   ]
  },
  {
   "cell_type": "code",
   "execution_count": 82,
   "metadata": {},
   "outputs": [
    {
     "name": "stderr",
     "output_type": "stream",
     "text": [
      "C:\\Users\\lbmm\\AppData\\Local\\Temp/ipykernel_1756/449883748.py:1: SettingWithCopyWarning: \n",
      "A value is trying to be set on a copy of a slice from a DataFrame.\n",
      "Try using .loc[row_indexer,col_indexer] = value instead\n",
      "\n",
      "See the caveats in the documentation: https://pandas.pydata.org/pandas-docs/stable/user_guide/indexing.html#returning-a-view-versus-a-copy\n",
      "  order_one[\"wh_cost\"] = order_one[\"decision_space\"].apply(lambda x: float(wh_cost.loc[wh_cost.WH == x, \"Cost/unit\"]))\n"
     ]
    }
   ],
   "source": [
    "order_one[\"wh_cost\"] = order_one[\"decision_space\"].apply(lambda x: float(wh_cost.loc[wh_cost.WH == x, \"Cost/unit\"]))"
   ]
  },
  {
   "cell_type": "code",
   "execution_count": 83,
   "metadata": {},
   "outputs": [
    {
     "data": {
      "text/html": [
       "<div>\n",
       "<style scoped>\n",
       "    .dataframe tbody tr th:only-of-type {\n",
       "        vertical-align: middle;\n",
       "    }\n",
       "\n",
       "    .dataframe tbody tr th {\n",
       "        vertical-align: top;\n",
       "    }\n",
       "\n",
       "    .dataframe thead th {\n",
       "        text-align: right;\n",
       "    }\n",
       "</style>\n",
       "<table border=\"1\" class=\"dataframe\">\n",
       "  <thead>\n",
       "    <tr style=\"text-align: right;\">\n",
       "      <th></th>\n",
       "      <th>Customer</th>\n",
       "      <th>Product_ID</th>\n",
       "      <th>Destination_Port</th>\n",
       "      <th>Unit_quantity</th>\n",
       "      <th>Weight</th>\n",
       "      <th>decision_space_size</th>\n",
       "      <th>decision_space</th>\n",
       "      <th>wh_cost</th>\n",
       "    </tr>\n",
       "    <tr>\n",
       "      <th>Order_ID</th>\n",
       "      <th></th>\n",
       "      <th></th>\n",
       "      <th></th>\n",
       "      <th></th>\n",
       "      <th></th>\n",
       "      <th></th>\n",
       "      <th></th>\n",
       "      <th></th>\n",
       "    </tr>\n",
       "  </thead>\n",
       "  <tbody>\n",
       "    <tr>\n",
       "      <th>1.447296e+09</th>\n",
       "      <td>V55555_53</td>\n",
       "      <td>1700106</td>\n",
       "      <td>PORT09</td>\n",
       "      <td>808</td>\n",
       "      <td>14.30</td>\n",
       "      <td>1</td>\n",
       "      <td>PLANT16</td>\n",
       "      <td>1.919808</td>\n",
       "    </tr>\n",
       "    <tr>\n",
       "      <th>1.447158e+09</th>\n",
       "      <td>V55555_53</td>\n",
       "      <td>1700106</td>\n",
       "      <td>PORT09</td>\n",
       "      <td>3188</td>\n",
       "      <td>87.94</td>\n",
       "      <td>1</td>\n",
       "      <td>PLANT16</td>\n",
       "      <td>1.919808</td>\n",
       "    </tr>\n",
       "  </tbody>\n",
       "</table>\n",
       "</div>"
      ],
      "text/plain": [
       "               Customer  Product_ID Destination_Port  Unit_quantity  Weight  \\\n",
       "Order_ID                                                                      \n",
       "1.447296e+09  V55555_53     1700106           PORT09            808   14.30   \n",
       "1.447158e+09  V55555_53     1700106           PORT09           3188   87.94   \n",
       "\n",
       "              decision_space_size decision_space   wh_cost  \n",
       "Order_ID                                                    \n",
       "1.447296e+09                    1        PLANT16  1.919808  \n",
       "1.447158e+09                    1        PLANT16  1.919808  "
      ]
     },
     "execution_count": 83,
     "metadata": {},
     "output_type": "execute_result"
    }
   ],
   "source": [
    "order_one.head(2)"
   ]
  },
  {
   "cell_type": "code",
   "execution_count": null,
   "metadata": {},
   "outputs": [],
   "source": []
  },
  {
   "cell_type": "code",
   "execution_count": null,
   "metadata": {},
   "outputs": [],
   "source": []
  },
  {
   "cell_type": "markdown",
   "metadata": {},
   "source": [
    "### Mapping the Supply Chain as a Bipartite Graph\n",
    "\n",
    "#### Non Interactive with Networkx"
   ]
  },
  {
   "cell_type": "code",
   "execution_count": null,
   "metadata": {},
   "outputs": [],
   "source": [
    "fig, ax = plt.subplots(figsize=(10,10))\n",
    "ax.set_facecolor(\"Grey\")\n",
    "\n",
    "# specify layout for the graph\n",
    "# layout = nx.bipartite_layout(plant_ports_graph, plant_ports[\"Plant Code\"])\n",
    "\n",
    "layout = nx.bipartite_layout(plant_ports_graph, plant_ports[\"Plant Code\"])\n",
    "\n",
    "for i in layout:\n",
    "    if i.startswith(\"PLANT\"):\n",
    "        layout[i][0] -= 0.1\n",
    "    else:\n",
    "        layout[i][0] += 0.1\n",
    "\n",
    "# we want to map the degree of the node to a color/size\n",
    "degrees = dict(plant_ports_graph.degree)\n",
    "maps = [v*100 for v in degrees.values()]\n",
    "\n",
    "# specify the color map\n",
    "cmap = plt.cm.Blues\n",
    "\n",
    "# keyword args that are the same for both functions\n",
    "kwargs = {\"pos\":layout, \"ax\":ax}\n",
    "\n",
    "nx.draw_networkx_nodes(plant_ports_graph, node_size=maps, node_color=maps, cmap=cmap, **kwargs)\n",
    "nx.draw_networkx_edges(plant_ports_graph, **kwargs)\n",
    "nx.draw_networkx_labels(plant_ports_graph, pos=layout)\n",
    "plt.show()"
   ]
  },
  {
   "cell_type": "markdown",
   "metadata": {},
   "source": [
    "#### Interactive Version with Plotly.\n",
    "\n",
    "- code adopted from https://plotly.com/python/network-graphs/"
   ]
  },
  {
   "cell_type": "code",
   "execution_count": 9,
   "metadata": {},
   "outputs": [],
   "source": [
    "# get starting and ending points of the edges and add them to the graph\n",
    "layout = nx.bipartite_layout(plant_ports_graph, plant_ports[\"Plant Code\"])\n",
    "\n",
    "for i in layout:\n",
    "    if i.startswith(\"PLANT\"):\n",
    "        layout[i][0] += 0.3\n",
    "    else:\n",
    "        layout[i][0] -= 0.3\n",
    "\n",
    "edge_x = []\n",
    "edge_y = []\n",
    "\n",
    "for edge in plant_ports_graph.edges():\n",
    "    x0, y0 = layout[edge[0]]\n",
    "    x1, y1 = layout[edge[1]]\n",
    "    \n",
    "    edge_x.append(x0)\n",
    "    edge_x.append(x1)\n",
    "    edge_x.append(None)\n",
    "    edge_y.append(y0)\n",
    "    edge_y.append(y1)\n",
    "    edge_y.append(None)\n",
    "    \n",
    "edge_trace = go.Scatter(\n",
    "    x=edge_x, y=edge_y,\n",
    "    line=dict(width=0.5, color='#25488e'),\n",
    "    hoverinfo='none',\n",
    "    mode='lines')"
   ]
  },
  {
   "cell_type": "code",
   "execution_count": 10,
   "metadata": {},
   "outputs": [],
   "source": [
    "# get coordinated of nodes and add them to the graph\n",
    "\n",
    "node_x = []\n",
    "node_y = []\n",
    "for node in plant_ports_graph.nodes():\n",
    "    x, y = layout[node]\n",
    "    node_x.append(x)\n",
    "    node_y.append(y)\n",
    "    \n",
    "maps = [v for v in degrees.values()]\n",
    "\n",
    "node_trace = go.Scatter(\n",
    "    x=node_x, y=node_y,\n",
    "    mode='markers',\n",
    "    hoverinfo='text',\n",
    "    marker=dict(\n",
    "        showscale=True,\n",
    "        colorscale='YlGnBu',\n",
    "        reversescale=True,\n",
    "        color=maps,\n",
    "        size=10,\n",
    "        colorbar=dict(\n",
    "            thickness=15,\n",
    "            title='Node Connections',\n",
    "            xanchor='left',\n",
    "            titleside='right'\n",
    "        ),\n",
    "        line_width=2))\n",
    "\n",
    "# node_trace.text = [\"Number of Links: \" + str(i) for i in maps]\n",
    "node_trace.text = [i + \" Number of Links: \" + str(degrees[i]) for i in degrees]"
   ]
  },
  {
   "cell_type": "code",
   "execution_count": 11,
   "metadata": {},
   "outputs": [
    {
     "data": {
      "application/vnd.plotly.v1+json": {
       "config": {
        "plotlyServerURL": "https://plot.ly"
       },
       "data": [
        {
         "hoverinfo": "none",
         "line": {
          "color": "#25488e",
          "width": 0.5
         },
         "mode": "lines",
         "type": "scatter",
         "x": [
          -0.2789473684210528,
          0.7,
          null,
          -0.2789473684210528,
          0.7,
          null,
          0.7,
          -0.2789473684210528,
          null,
          0.7,
          -0.2789473684210528,
          null,
          0.7,
          -0.2789473684210528,
          null,
          0.7,
          -0.2789473684210528,
          null,
          -0.2789473684210528,
          0.7,
          null,
          -0.2789473684210528,
          0.7,
          null,
          0.7,
          -0.2789473684210528,
          null,
          0.7,
          -0.2789473684210528,
          null,
          0.7,
          -0.2789473684210528,
          null,
          0.7,
          -0.2789473684210528,
          null,
          0.7,
          -0.2789473684210528,
          null,
          0.7,
          -0.2789473684210528,
          null,
          -0.2789473684210528,
          0.7,
          null,
          -0.2789473684210528,
          0.7,
          null,
          0.7,
          -0.2789473684210528,
          null,
          -0.2789473684210528,
          0.7,
          null,
          -0.2789473684210528,
          0.7,
          null,
          -0.2789473684210528,
          0.7,
          null,
          -0.2789473684210528,
          0.7,
          null,
          -0.2789473684210528,
          0.7,
          null
         ],
         "y": [
          0.4605263157894737,
          0.4736842105263159,
          null,
          0.4605263157894737,
          -0.3552631578947369,
          null,
          0.4736842105263159,
          -0.32894736842105265,
          null,
          0.4736842105263159,
          -0.26315789473684215,
          null,
          -0.3552631578947369,
          -0.32894736842105265,
          null,
          -0.3552631578947369,
          -0.26315789473684215,
          null,
          0.5921052631578948,
          -0.23684210526315788,
          null,
          0.32894736842105254,
          -0.5921052631578948,
          null,
          -0.5921052631578948,
          -0.3947368421052632,
          null,
          -0.5921052631578948,
          0.3947368421052631,
          null,
          -0.5921052631578948,
          -0.06578947368421055,
          null,
          -0.5921052631578948,
          0.19736842105263155,
          null,
          -0.5921052631578948,
          0.06578947368421056,
          null,
          -0.5921052631578948,
          -0.1973684210526316,
          null,
          -0.5263157894736843,
          4.3824593077308816e-18,
          null,
          -0.13157894736842113,
          0.236842105263158,
          null,
          0.236842105263158,
          0.5263157894736843,
          null,
          0.26315789473684215,
          0.35526315789473695,
          null,
          -0.46052631578947373,
          0.5921052631578948,
          null,
          0.131578947368421,
          -0.11842105263157894,
          null,
          -0.5921052631578948,
          0.11842105263157907,
          null,
          4.3824593077308816e-18,
          -0.4736842105263159,
          null
         ]
        },
        {
         "hoverinfo": "text",
         "marker": {
          "color": [
           2,
           3,
           3,
           1,
           1,
           1,
           7,
           1,
           1,
           1,
           2,
           1,
           2,
           1,
           1,
           2,
           1,
           1,
           1,
           1,
           1,
           1,
           1,
           1,
           1,
           1,
           1,
           1,
           1,
           1
          ],
          "colorbar": {
           "thickness": 15,
           "title": {
            "side": "right",
            "text": "Node Connections"
           },
           "xanchor": "left"
          },
          "colorscale": [
           [
            0,
            "rgb(255,255,217)"
           ],
           [
            0.125,
            "rgb(237,248,177)"
           ],
           [
            0.25,
            "rgb(199,233,180)"
           ],
           [
            0.375,
            "rgb(127,205,187)"
           ],
           [
            0.5,
            "rgb(65,182,196)"
           ],
           [
            0.625,
            "rgb(29,145,192)"
           ],
           [
            0.75,
            "rgb(34,94,168)"
           ],
           [
            0.875,
            "rgb(37,52,148)"
           ],
           [
            1,
            "rgb(8,29,88)"
           ]
          ],
          "line": {
           "width": 2
          },
          "reversescale": true,
          "showscale": true,
          "size": 10
         },
         "mode": "markers",
         "text": [
          "PLANT01 Number of Links: 2",
          "PORT01 Number of Links: 3",
          "PORT02 Number of Links: 3",
          "PLANT02 Number of Links: 1",
          "PORT03 Number of Links: 1",
          "PLANT03 Number of Links: 1",
          "PORT04 Number of Links: 7",
          "PLANT04 Number of Links: 1",
          "PORT05 Number of Links: 1",
          "PLANT05 Number of Links: 1",
          "PORT06 Number of Links: 2",
          "PLANT06 Number of Links: 1",
          "PLANT07 Number of Links: 2",
          "PLANT08 Number of Links: 1",
          "PLANT09 Number of Links: 1",
          "PLANT10 Number of Links: 2",
          "PLANT11 Number of Links: 1",
          "PLANT12 Number of Links: 1",
          "PLANT13 Number of Links: 1",
          "PLANT14 Number of Links: 1",
          "PORT07 Number of Links: 1",
          "PLANT15 Number of Links: 1",
          "PORT08 Number of Links: 1",
          "PLANT16 Number of Links: 1",
          "PORT09 Number of Links: 1",
          "PLANT17 Number of Links: 1",
          "PORT10 Number of Links: 1",
          "PLANT18 Number of Links: 1",
          "PORT11 Number of Links: 1",
          "PLANT19 Number of Links: 1"
         ],
         "type": "scatter",
         "x": [
          -0.2789473684210528,
          0.7,
          0.7,
          -0.2789473684210528,
          0.7,
          -0.2789473684210528,
          0.7,
          -0.2789473684210528,
          0.7,
          -0.2789473684210528,
          0.7,
          -0.2789473684210528,
          -0.2789473684210528,
          -0.2789473684210528,
          -0.2789473684210528,
          -0.2789473684210528,
          -0.2789473684210528,
          -0.2789473684210528,
          -0.2789473684210528,
          -0.2789473684210528,
          0.7,
          -0.2789473684210528,
          0.7,
          -0.2789473684210528,
          0.7,
          -0.2789473684210528,
          0.7,
          -0.2789473684210528,
          0.7,
          -0.2789473684210528
         ],
         "y": [
          0.4605263157894737,
          0.4736842105263159,
          -0.3552631578947369,
          0.5921052631578948,
          -0.23684210526315788,
          0.32894736842105254,
          -0.5921052631578948,
          -0.5263157894736843,
          4.3824593077308816e-18,
          -0.13157894736842113,
          0.236842105263158,
          0.5263157894736843,
          -0.32894736842105265,
          -0.3947368421052632,
          0.3947368421052631,
          -0.26315789473684215,
          -0.06578947368421055,
          0.19736842105263155,
          0.06578947368421056,
          0.26315789473684215,
          0.35526315789473695,
          -0.46052631578947373,
          0.5921052631578948,
          0.131578947368421,
          -0.11842105263157894,
          -0.5921052631578948,
          0.11842105263157907,
          4.3824593077308816e-18,
          -0.4736842105263159,
          -0.1973684210526316
         ]
        }
       ],
       "layout": {
        "annotations": [
         {
          "showarrow": false,
          "text": "Factories",
          "x": 0.005,
          "xref": "paper",
          "y": -0.002,
          "yref": "paper"
         },
         {
          "showarrow": false,
          "text": "Ports",
          "x": 0.95,
          "xref": "paper",
          "y": -0.002,
          "yref": "paper"
         }
        ],
        "hovermode": "closest",
        "margin": {
         "b": 20,
         "l": 5,
         "r": 5,
         "t": 40
        },
        "showlegend": false,
        "template": {
         "data": {
          "bar": [
           {
            "error_x": {
             "color": "#2a3f5f"
            },
            "error_y": {
             "color": "#2a3f5f"
            },
            "marker": {
             "line": {
              "color": "#E5ECF6",
              "width": 0.5
             },
             "pattern": {
              "fillmode": "overlay",
              "size": 10,
              "solidity": 0.2
             }
            },
            "type": "bar"
           }
          ],
          "barpolar": [
           {
            "marker": {
             "line": {
              "color": "#E5ECF6",
              "width": 0.5
             },
             "pattern": {
              "fillmode": "overlay",
              "size": 10,
              "solidity": 0.2
             }
            },
            "type": "barpolar"
           }
          ],
          "carpet": [
           {
            "aaxis": {
             "endlinecolor": "#2a3f5f",
             "gridcolor": "white",
             "linecolor": "white",
             "minorgridcolor": "white",
             "startlinecolor": "#2a3f5f"
            },
            "baxis": {
             "endlinecolor": "#2a3f5f",
             "gridcolor": "white",
             "linecolor": "white",
             "minorgridcolor": "white",
             "startlinecolor": "#2a3f5f"
            },
            "type": "carpet"
           }
          ],
          "choropleth": [
           {
            "colorbar": {
             "outlinewidth": 0,
             "ticks": ""
            },
            "type": "choropleth"
           }
          ],
          "contour": [
           {
            "colorbar": {
             "outlinewidth": 0,
             "ticks": ""
            },
            "colorscale": [
             [
              0,
              "#0d0887"
             ],
             [
              0.1111111111111111,
              "#46039f"
             ],
             [
              0.2222222222222222,
              "#7201a8"
             ],
             [
              0.3333333333333333,
              "#9c179e"
             ],
             [
              0.4444444444444444,
              "#bd3786"
             ],
             [
              0.5555555555555556,
              "#d8576b"
             ],
             [
              0.6666666666666666,
              "#ed7953"
             ],
             [
              0.7777777777777778,
              "#fb9f3a"
             ],
             [
              0.8888888888888888,
              "#fdca26"
             ],
             [
              1,
              "#f0f921"
             ]
            ],
            "type": "contour"
           }
          ],
          "contourcarpet": [
           {
            "colorbar": {
             "outlinewidth": 0,
             "ticks": ""
            },
            "type": "contourcarpet"
           }
          ],
          "heatmap": [
           {
            "colorbar": {
             "outlinewidth": 0,
             "ticks": ""
            },
            "colorscale": [
             [
              0,
              "#0d0887"
             ],
             [
              0.1111111111111111,
              "#46039f"
             ],
             [
              0.2222222222222222,
              "#7201a8"
             ],
             [
              0.3333333333333333,
              "#9c179e"
             ],
             [
              0.4444444444444444,
              "#bd3786"
             ],
             [
              0.5555555555555556,
              "#d8576b"
             ],
             [
              0.6666666666666666,
              "#ed7953"
             ],
             [
              0.7777777777777778,
              "#fb9f3a"
             ],
             [
              0.8888888888888888,
              "#fdca26"
             ],
             [
              1,
              "#f0f921"
             ]
            ],
            "type": "heatmap"
           }
          ],
          "heatmapgl": [
           {
            "colorbar": {
             "outlinewidth": 0,
             "ticks": ""
            },
            "colorscale": [
             [
              0,
              "#0d0887"
             ],
             [
              0.1111111111111111,
              "#46039f"
             ],
             [
              0.2222222222222222,
              "#7201a8"
             ],
             [
              0.3333333333333333,
              "#9c179e"
             ],
             [
              0.4444444444444444,
              "#bd3786"
             ],
             [
              0.5555555555555556,
              "#d8576b"
             ],
             [
              0.6666666666666666,
              "#ed7953"
             ],
             [
              0.7777777777777778,
              "#fb9f3a"
             ],
             [
              0.8888888888888888,
              "#fdca26"
             ],
             [
              1,
              "#f0f921"
             ]
            ],
            "type": "heatmapgl"
           }
          ],
          "histogram": [
           {
            "marker": {
             "pattern": {
              "fillmode": "overlay",
              "size": 10,
              "solidity": 0.2
             }
            },
            "type": "histogram"
           }
          ],
          "histogram2d": [
           {
            "colorbar": {
             "outlinewidth": 0,
             "ticks": ""
            },
            "colorscale": [
             [
              0,
              "#0d0887"
             ],
             [
              0.1111111111111111,
              "#46039f"
             ],
             [
              0.2222222222222222,
              "#7201a8"
             ],
             [
              0.3333333333333333,
              "#9c179e"
             ],
             [
              0.4444444444444444,
              "#bd3786"
             ],
             [
              0.5555555555555556,
              "#d8576b"
             ],
             [
              0.6666666666666666,
              "#ed7953"
             ],
             [
              0.7777777777777778,
              "#fb9f3a"
             ],
             [
              0.8888888888888888,
              "#fdca26"
             ],
             [
              1,
              "#f0f921"
             ]
            ],
            "type": "histogram2d"
           }
          ],
          "histogram2dcontour": [
           {
            "colorbar": {
             "outlinewidth": 0,
             "ticks": ""
            },
            "colorscale": [
             [
              0,
              "#0d0887"
             ],
             [
              0.1111111111111111,
              "#46039f"
             ],
             [
              0.2222222222222222,
              "#7201a8"
             ],
             [
              0.3333333333333333,
              "#9c179e"
             ],
             [
              0.4444444444444444,
              "#bd3786"
             ],
             [
              0.5555555555555556,
              "#d8576b"
             ],
             [
              0.6666666666666666,
              "#ed7953"
             ],
             [
              0.7777777777777778,
              "#fb9f3a"
             ],
             [
              0.8888888888888888,
              "#fdca26"
             ],
             [
              1,
              "#f0f921"
             ]
            ],
            "type": "histogram2dcontour"
           }
          ],
          "mesh3d": [
           {
            "colorbar": {
             "outlinewidth": 0,
             "ticks": ""
            },
            "type": "mesh3d"
           }
          ],
          "parcoords": [
           {
            "line": {
             "colorbar": {
              "outlinewidth": 0,
              "ticks": ""
             }
            },
            "type": "parcoords"
           }
          ],
          "pie": [
           {
            "automargin": true,
            "type": "pie"
           }
          ],
          "scatter": [
           {
            "marker": {
             "colorbar": {
              "outlinewidth": 0,
              "ticks": ""
             }
            },
            "type": "scatter"
           }
          ],
          "scatter3d": [
           {
            "line": {
             "colorbar": {
              "outlinewidth": 0,
              "ticks": ""
             }
            },
            "marker": {
             "colorbar": {
              "outlinewidth": 0,
              "ticks": ""
             }
            },
            "type": "scatter3d"
           }
          ],
          "scattercarpet": [
           {
            "marker": {
             "colorbar": {
              "outlinewidth": 0,
              "ticks": ""
             }
            },
            "type": "scattercarpet"
           }
          ],
          "scattergeo": [
           {
            "marker": {
             "colorbar": {
              "outlinewidth": 0,
              "ticks": ""
             }
            },
            "type": "scattergeo"
           }
          ],
          "scattergl": [
           {
            "marker": {
             "colorbar": {
              "outlinewidth": 0,
              "ticks": ""
             }
            },
            "type": "scattergl"
           }
          ],
          "scattermapbox": [
           {
            "marker": {
             "colorbar": {
              "outlinewidth": 0,
              "ticks": ""
             }
            },
            "type": "scattermapbox"
           }
          ],
          "scatterpolar": [
           {
            "marker": {
             "colorbar": {
              "outlinewidth": 0,
              "ticks": ""
             }
            },
            "type": "scatterpolar"
           }
          ],
          "scatterpolargl": [
           {
            "marker": {
             "colorbar": {
              "outlinewidth": 0,
              "ticks": ""
             }
            },
            "type": "scatterpolargl"
           }
          ],
          "scatterternary": [
           {
            "marker": {
             "colorbar": {
              "outlinewidth": 0,
              "ticks": ""
             }
            },
            "type": "scatterternary"
           }
          ],
          "surface": [
           {
            "colorbar": {
             "outlinewidth": 0,
             "ticks": ""
            },
            "colorscale": [
             [
              0,
              "#0d0887"
             ],
             [
              0.1111111111111111,
              "#46039f"
             ],
             [
              0.2222222222222222,
              "#7201a8"
             ],
             [
              0.3333333333333333,
              "#9c179e"
             ],
             [
              0.4444444444444444,
              "#bd3786"
             ],
             [
              0.5555555555555556,
              "#d8576b"
             ],
             [
              0.6666666666666666,
              "#ed7953"
             ],
             [
              0.7777777777777778,
              "#fb9f3a"
             ],
             [
              0.8888888888888888,
              "#fdca26"
             ],
             [
              1,
              "#f0f921"
             ]
            ],
            "type": "surface"
           }
          ],
          "table": [
           {
            "cells": {
             "fill": {
              "color": "#EBF0F8"
             },
             "line": {
              "color": "white"
             }
            },
            "header": {
             "fill": {
              "color": "#C8D4E3"
             },
             "line": {
              "color": "white"
             }
            },
            "type": "table"
           }
          ]
         },
         "layout": {
          "annotationdefaults": {
           "arrowcolor": "#2a3f5f",
           "arrowhead": 0,
           "arrowwidth": 1
          },
          "autotypenumbers": "strict",
          "coloraxis": {
           "colorbar": {
            "outlinewidth": 0,
            "ticks": ""
           }
          },
          "colorscale": {
           "diverging": [
            [
             0,
             "#8e0152"
            ],
            [
             0.1,
             "#c51b7d"
            ],
            [
             0.2,
             "#de77ae"
            ],
            [
             0.3,
             "#f1b6da"
            ],
            [
             0.4,
             "#fde0ef"
            ],
            [
             0.5,
             "#f7f7f7"
            ],
            [
             0.6,
             "#e6f5d0"
            ],
            [
             0.7,
             "#b8e186"
            ],
            [
             0.8,
             "#7fbc41"
            ],
            [
             0.9,
             "#4d9221"
            ],
            [
             1,
             "#276419"
            ]
           ],
           "sequential": [
            [
             0,
             "#0d0887"
            ],
            [
             0.1111111111111111,
             "#46039f"
            ],
            [
             0.2222222222222222,
             "#7201a8"
            ],
            [
             0.3333333333333333,
             "#9c179e"
            ],
            [
             0.4444444444444444,
             "#bd3786"
            ],
            [
             0.5555555555555556,
             "#d8576b"
            ],
            [
             0.6666666666666666,
             "#ed7953"
            ],
            [
             0.7777777777777778,
             "#fb9f3a"
            ],
            [
             0.8888888888888888,
             "#fdca26"
            ],
            [
             1,
             "#f0f921"
            ]
           ],
           "sequentialminus": [
            [
             0,
             "#0d0887"
            ],
            [
             0.1111111111111111,
             "#46039f"
            ],
            [
             0.2222222222222222,
             "#7201a8"
            ],
            [
             0.3333333333333333,
             "#9c179e"
            ],
            [
             0.4444444444444444,
             "#bd3786"
            ],
            [
             0.5555555555555556,
             "#d8576b"
            ],
            [
             0.6666666666666666,
             "#ed7953"
            ],
            [
             0.7777777777777778,
             "#fb9f3a"
            ],
            [
             0.8888888888888888,
             "#fdca26"
            ],
            [
             1,
             "#f0f921"
            ]
           ]
          },
          "colorway": [
           "#636efa",
           "#EF553B",
           "#00cc96",
           "#ab63fa",
           "#FFA15A",
           "#19d3f3",
           "#FF6692",
           "#B6E880",
           "#FF97FF",
           "#FECB52"
          ],
          "font": {
           "color": "#2a3f5f"
          },
          "geo": {
           "bgcolor": "white",
           "lakecolor": "white",
           "landcolor": "#E5ECF6",
           "showlakes": true,
           "showland": true,
           "subunitcolor": "white"
          },
          "hoverlabel": {
           "align": "left"
          },
          "hovermode": "closest",
          "mapbox": {
           "style": "light"
          },
          "paper_bgcolor": "white",
          "plot_bgcolor": "#E5ECF6",
          "polar": {
           "angularaxis": {
            "gridcolor": "white",
            "linecolor": "white",
            "ticks": ""
           },
           "bgcolor": "#E5ECF6",
           "radialaxis": {
            "gridcolor": "white",
            "linecolor": "white",
            "ticks": ""
           }
          },
          "scene": {
           "xaxis": {
            "backgroundcolor": "#E5ECF6",
            "gridcolor": "white",
            "gridwidth": 2,
            "linecolor": "white",
            "showbackground": true,
            "ticks": "",
            "zerolinecolor": "white"
           },
           "yaxis": {
            "backgroundcolor": "#E5ECF6",
            "gridcolor": "white",
            "gridwidth": 2,
            "linecolor": "white",
            "showbackground": true,
            "ticks": "",
            "zerolinecolor": "white"
           },
           "zaxis": {
            "backgroundcolor": "#E5ECF6",
            "gridcolor": "white",
            "gridwidth": 2,
            "linecolor": "white",
            "showbackground": true,
            "ticks": "",
            "zerolinecolor": "white"
           }
          },
          "shapedefaults": {
           "line": {
            "color": "#2a3f5f"
           }
          },
          "ternary": {
           "aaxis": {
            "gridcolor": "white",
            "linecolor": "white",
            "ticks": ""
           },
           "baxis": {
            "gridcolor": "white",
            "linecolor": "white",
            "ticks": ""
           },
           "bgcolor": "#E5ECF6",
           "caxis": {
            "gridcolor": "white",
            "linecolor": "white",
            "ticks": ""
           }
          },
          "title": {
           "x": 0.05
          },
          "xaxis": {
           "automargin": true,
           "gridcolor": "white",
           "linecolor": "white",
           "ticks": "",
           "title": {
            "standoff": 15
           },
           "zerolinecolor": "white",
           "zerolinewidth": 2
          },
          "yaxis": {
           "automargin": true,
           "gridcolor": "white",
           "linecolor": "white",
           "ticks": "",
           "title": {
            "standoff": 15
           },
           "zerolinecolor": "white",
           "zerolinewidth": 2
          }
         }
        },
        "title": {
         "font": {
          "size": 16
         },
         "text": "<br>Supply Chain"
        },
        "xaxis": {
         "showgrid": true,
         "showticklabels": true,
         "zeroline": false
        },
        "yaxis": {
         "showgrid": true,
         "showticklabels": true,
         "zeroline": false
        }
       }
      }
     },
     "metadata": {},
     "output_type": "display_data"
    }
   ],
   "source": [
    "fig = go.Figure(data=[edge_trace, node_trace],\n",
    "             layout=go.Layout(\n",
    "                title='<br>Supply Chain',\n",
    "                titlefont_size=16,\n",
    "                showlegend=False,\n",
    "                hovermode='closest',\n",
    "                margin=dict(b=20,l=5,r=5,t=40),\n",
    "                annotations=[dict(text=\"Factories\",\n",
    "                     showarrow=False,\n",
    "                     xref=\"paper\", yref=\"paper\",\n",
    "                     x=0.005, y=-0.002 ),\n",
    "                             dict(text=\"Ports\",\n",
    "                     showarrow=False,\n",
    "                     xref=\"paper\", yref=\"paper\",\n",
    "                     x=0.95, y=-0.002 )],\n",
    "                xaxis=dict(showgrid=True, zeroline=False, showticklabels=True),\n",
    "                yaxis=dict(showgrid=True, zeroline=False, showticklabels=True))\n",
    "                )\n",
    "fig"
   ]
  },
  {
   "cell_type": "code",
   "execution_count": 1,
   "metadata": {},
   "outputs": [
    {
     "data": {
      "text/plain": [
       "(1, 2, 3, 1, 2)"
      ]
     },
     "execution_count": 1,
     "metadata": {},
     "output_type": "execute_result"
    }
   ],
   "source": [
    "(1,2,3) + (1,2)"
   ]
  },
  {
   "cell_type": "code",
   "execution_count": 9,
   "metadata": {},
   "outputs": [
    {
     "name": "stdout",
     "output_type": "stream",
     "text": [
      "True\n",
      "True\n",
      "True\n"
     ]
    },
    {
     "data": {
      "text/plain": [
       "7"
      ]
     },
     "execution_count": 9,
     "metadata": {},
     "output_type": "execute_result"
    }
   ],
   "source": [
    "def get(elements):\n",
    "    to_return = 0\n",
    "    for value in reversed(elements):\n",
    "        if value % 2 != 0:\n",
    "            print(True)\n",
    "            to_return = value\n",
    "    return to_return\n",
    "    \n",
    "get([7,3,4,5])"
   ]
  },
  {
   "cell_type": "code",
   "execution_count": 18,
   "metadata": {},
   "outputs": [
    {
     "data": {
      "text/plain": [
       "6"
      ]
     },
     "execution_count": 18,
     "metadata": {},
     "output_type": "execute_result"
    }
   ],
   "source": [
    "def sum_numbers(start=1, end=10):\n",
    "    result = 0\n",
    "    for i in range(start, end):\n",
    "        result += i\n",
    "    return result\n",
    "\n",
    "a = 10\n",
    "b = 10\n",
    "\n",
    "sum_numbers(0,4)"
   ]
  },
  {
   "cell_type": "markdown",
   "metadata": {},
   "source": [
    "Most facilities have only one connection to a port. Port 4 is potentially the most important one as it has the most connections to the warehouses."
   ]
  }
 ],
 "metadata": {
  "interpreter": {
   "hash": "93ff2fb3ab55f45baf9b992255903249eaebee6bb8e37ed653eb50e096a7d927"
  },
  "kernelspec": {
   "display_name": "Python 3.8.10 64-bit",
   "language": "python",
   "name": "python3"
  },
  "language_info": {
   "codemirror_mode": {
    "name": "ipython",
    "version": 3
   },
   "file_extension": ".py",
   "mimetype": "text/x-python",
   "name": "python",
   "nbconvert_exporter": "python",
   "pygments_lexer": "ipython3",
   "version": "3.8.10"
  },
  "orig_nbformat": 4
 },
 "nbformat": 4,
 "nbformat_minor": 2
}
