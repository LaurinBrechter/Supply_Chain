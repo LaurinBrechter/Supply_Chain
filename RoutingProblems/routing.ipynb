{
 "cells": [
  {
   "cell_type": "markdown",
   "metadata": {},
   "source": [
    "### Solutions to Stochastic Dynamic Routing Problems using (Deep) Reinformecement Learning\n",
    "\n",
    "Setup:\n",
    "\n",
    "- Given a Graph G with Nodes V and Edges E.\n",
    "- We want to find a tour through the graph that traverses all the nodes. We could for example imagine the nodes being customers and a truck that needs to deliver goods to them.\n",
    "- The edge weights represent the costs of going from one node to another.\n",
    "- Traverse all nodes of the graph while minimizing the total cost.\n",
    "\n",
    "Assumptions:\n",
    "\n",
    "- fully connected graph"
   ]
  },
  {
   "cell_type": "code",
   "execution_count": 4,
   "metadata": {},
   "outputs": [],
   "source": [
    "import networkx as nx\n",
    "import numpy as np\n",
    "import pandas as pd\n",
    "from gym import Env, spaces\n",
    "import time\n",
    "import random\n",
    "import matplotlib.pyplot as plt\n",
    "from networkx import approximation"
   ]
  },
  {
   "cell_type": "code",
   "execution_count": 49,
   "metadata": {},
   "outputs": [],
   "source": [
    "# add a \"fully connected option\"\n",
    "class Env():\n",
    "    def __init__(self, n_nodes, random_starts=False, dropout=0):\n",
    "        \n",
    "        self.random_starts = random_starts\n",
    "        self.observation_space = range(n_nodes)\n",
    "        self.g = nx.complete_graph(self.observation_space)\n",
    "        self.weight = dict(zip(self.g.edges(), np.random.randint(2,10, size=len(self.g.edges()))))\n",
    "        \n",
    "        self.player_pos = 0\n",
    "        self.visited = [0]\n",
    "        \n",
    "        nx.set_edge_attributes(self.g, self.weight, \"weight\")\n",
    "        \n",
    "        # set the colors of all the nodes to blue by default\n",
    "        nx.set_edge_attributes(self.g, dict(zip(self.g.edges(), [(51/255, 102/255, 255/255)] * len(self.g.edges()))), \"on_tsp\")\n",
    "        \n",
    "    def step(self, action):\n",
    "        \n",
    "        reward = self.weight[(min(self.player_pos, action), max(self.player_pos, action))]\n",
    "        self.player_pos = action\n",
    "        self.visited.append(action)\n",
    "        \n",
    "        done = False\n",
    "        if len(set(self.visited)) == len(self.observation_space):\n",
    "            done = True\n",
    "        \n",
    "        # self.action_space = range(n_nodes)\n",
    "        \n",
    "        # state, reward, done\n",
    "        return self.player_pos, reward, done\n",
    "        \n",
    "    # function for plotting the best possible route.\n",
    "    def plot(self, best_route=False):\n",
    "        \n",
    "        # for the tsp visualization\n",
    "        tsp = approximation.traveling_salesman_problem\n",
    "        tsp_trajectory = tsp(self.g, nodes=self.g.nodes(), weight=\"weight\")\n",
    "        color_list = []\n",
    "        \n",
    "        # make tuples in the form of (start, end) out of the tsp sequence\n",
    "        for index, node in enumerate(tsp_trajectory[:-1]):\n",
    "            color_list.append((node, tsp_trajectory[index+1]))\n",
    "        \n",
    "        # make a dictionary with the edges as keys and the color \"r\" as value.        \n",
    "        zippy = dict(zip(color_list, [(179/255, 0, 0)] * len(color_list)))\n",
    "        nx.set_edge_attributes(self.g, zippy, \"on_tsp\")\n",
    "        \n",
    "        # edges that are traversed during the tsp will be marked red.\n",
    "        colors = nx.get_edge_attributes(self.g, \"on_tsp\").values()\n",
    "        \n",
    "        # draw the newtwork.\n",
    "        pos = nx.circular_layout(self.g)\n",
    "        nx.draw_networkx_edges(self.g, pos=pos, width=list(self.weight.values()), alpha=0.7, edge_color=colors)\n",
    "        nx.draw_networkx_nodes(self.g, pos=pos)\n",
    "        nx.draw_networkx_labels(self.g, pos=pos)\n",
    "        \n",
    "    # after the truck has visited all the nodes, step will return \"done\" and we reset the env.\n",
    "    def reset(self):\n",
    "        if self.random_starts:\n",
    "            return np.random.choice(self.g.nodes())\n",
    "        else:\n",
    "            self.player_pos = 0\n",
    "            self.visited = [0]\n",
    "            return "
   ]
  },
  {
   "cell_type": "code",
   "execution_count": null,
   "metadata": {},
   "outputs": [],
   "source": [
    "class Agent():\n",
    "    def __init__(self, alpha=0.01, gamma=1, epsilon=0.1, n_epochs=1000):\n",
    "        \n",
    "        self.env = Env()\n",
    "        self.n_epochs = n_epochs\n",
    "        self.alpha = alpha\n",
    "        self.gamma = gamma\n",
    "        self.epsilon = epsilon\n",
    "    \n",
    "    def train():\n",
    "        pass\n",
    "    \n",
    "    def results():\n",
    "        pass"
   ]
  },
  {
   "cell_type": "markdown",
   "metadata": {},
   "source": [
    "### Convergance Rate:"
   ]
  },
  {
   "cell_type": "markdown",
   "metadata": {},
   "source": [
    "### Scalability"
   ]
  },
  {
   "cell_type": "markdown",
   "metadata": {},
   "source": []
  },
  {
   "cell_type": "markdown",
   "metadata": {},
   "source": [
    "### Multipartite for SC Modelling"
   ]
  },
  {
   "cell_type": "code",
   "execution_count": 10,
   "metadata": {},
   "outputs": [
    {
     "ename": "TypeError",
     "evalue": "bipartite_layout() missing 1 required positional argument: 'nodes'",
     "output_type": "error",
     "traceback": [
      "\u001b[1;31m---------------------------------------------------------------------------\u001b[0m",
      "\u001b[1;31mTypeError\u001b[0m                                 Traceback (most recent call last)",
      "\u001b[1;32m~\\AppData\\Local\\Temp/ipykernel_18972/374100468.py\u001b[0m in \u001b[0;36m<module>\u001b[1;34m\u001b[0m\n\u001b[0;32m      1\u001b[0m \u001b[0mg\u001b[0m \u001b[1;33m=\u001b[0m \u001b[0mnx\u001b[0m\u001b[1;33m.\u001b[0m\u001b[0mcomplete_multipartite_graph\u001b[0m\u001b[1;33m(\u001b[0m\u001b[1;36m1\u001b[0m\u001b[1;33m,\u001b[0m\u001b[1;36m2\u001b[0m\u001b[1;33m,\u001b[0m\u001b[1;36m3\u001b[0m\u001b[1;33m)\u001b[0m\u001b[1;33m\u001b[0m\u001b[1;33m\u001b[0m\u001b[0m\n\u001b[1;32m----> 2\u001b[1;33m \u001b[0mnx\u001b[0m\u001b[1;33m.\u001b[0m\u001b[0mdraw\u001b[0m\u001b[1;33m(\u001b[0m\u001b[0mg\u001b[0m\u001b[1;33m,\u001b[0m \u001b[0mpos\u001b[0m\u001b[1;33m=\u001b[0m\u001b[0mnx\u001b[0m\u001b[1;33m.\u001b[0m\u001b[0mbipartite_layout\u001b[0m\u001b[1;33m(\u001b[0m\u001b[0mg\u001b[0m\u001b[1;33m)\u001b[0m\u001b[1;33m)\u001b[0m\u001b[1;33m\u001b[0m\u001b[1;33m\u001b[0m\u001b[0m\n\u001b[0m",
      "\u001b[1;31mTypeError\u001b[0m: bipartite_layout() missing 1 required positional argument: 'nodes'"
     ]
    }
   ],
   "source": [
    "g = nx.complete_multipartite_graph(1,2,3)\n",
    "nx.draw(g, pos=nx.bipartite_layout(g))"
   ]
  },
  {
   "cell_type": "code",
   "execution_count": null,
   "metadata": {},
   "outputs": [],
   "source": [
    "nx.multipartite_layout()"
   ]
  }
 ],
 "metadata": {
  "interpreter": {
   "hash": "93ff2fb3ab55f45baf9b992255903249eaebee6bb8e37ed653eb50e096a7d927"
  },
  "kernelspec": {
   "display_name": "Python 3.8.10 64-bit",
   "language": "python",
   "name": "python3"
  },
  "language_info": {
   "codemirror_mode": {
    "name": "ipython",
    "version": 3
   },
   "file_extension": ".py",
   "mimetype": "text/x-python",
   "name": "python",
   "nbconvert_exporter": "python",
   "pygments_lexer": "ipython3",
   "version": "3.8.10"
  },
  "orig_nbformat": 4
 },
 "nbformat": 4,
 "nbformat_minor": 2
}
